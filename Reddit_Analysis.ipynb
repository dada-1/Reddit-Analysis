{
  "nbformat": 4,
  "nbformat_minor": 0,
  "metadata": {
    "kernelspec": {
      "name": "python3",
      "display_name": "Python 3"
    },
    "colab": {
      "name": "MIE1513_Project.ipynb",
      "provenance": [],
      "collapsed_sections": []
    },
    "accelerator": "TPU"
  },
  "cells": [
    {
      "cell_type": "markdown",
      "metadata": {
        "id": "Cg-QmIz3q88r",
        "colab_type": "text"
      },
      "source": [
        "# **MIE1513: Final Project**\n",
        "### Submission date: April 20, 2020 at 23:59pm"
      ]
    },
    {
      "cell_type": "markdown",
      "metadata": {
        "id": "EBnwA95Aq88t",
        "colab_type": "text"
      },
      "source": [
        "-------------\n",
        "\n",
        "## Academic Integrity Declaration:\n",
        "In submitting this assessment, I confirm that my conduct during this project adheres to the Code of Behaviour on Academic Matters. I confirm that I have not acted in such a way that would constitute cheating, misrepresentation, or unfairness, including but not limited to, using unauthorized aids and assistance, impersonating another person, and committing plagiarism. I pledge upon my honour that I have not violated the Faculty of Applied Science & Engineering’s Honour Code during this assessment.\n",
        "\n",
        "-------------\n"
      ]
    },
    {
      "cell_type": "markdown",
      "metadata": {
        "id": "KTVrd94Uq88t",
        "colab_type": "text"
      },
      "source": [
        "## Part 1: Data Loading"
      ]
    },
    {
      "cell_type": "markdown",
      "metadata": {
        "id": "XjMzTr9Uq88u",
        "colab_type": "text"
      },
      "source": [
        "### (a) Load the provided dataset (reddit_data.json)"
      ]
    },
    {
      "cell_type": "code",
      "metadata": {
        "id": "LC7P8cErq88v",
        "colab_type": "code",
        "colab": {
          "base_uri": "https://localhost:8080/",
          "height": 119
        },
        "outputId": "ada96fd2-a3cf-45f7-a0b0-a81a0e4827de"
      },
      "source": [
        "import pandas as pd\n",
        "import numpy as np\n",
        "import html\n",
        "import matplotlib.pyplot as plt\n",
        "import seaborn as sns\n",
        "from datetime import datetime\n",
        "import scipy\n",
        "from nltk import tokenize\n",
        "from nltk.sentiment import SentimentAnalyzer\n",
        "from nltk.sentiment.vader import SentimentIntensityAnalyzer\n",
        "from nltk.sentiment.util import *\n",
        "from nltk import tokenize\n",
        "from nltk.stem import PorterStemmer\n",
        "from nltk.stem import WordNetLemmatizer \n",
        "from nltk.corpus import stopwords\n",
        "from nltk.tag import PerceptronTagger\n",
        "from nltk.data import find\n",
        "nltk.download('vader_lexicon')\n",
        "nltk.download('stopwords')\n",
        "nltk.download('wordnet')\n",
        "from collections import Counter\n",
        "from sklearn.preprocessing import OneHotEncoder\n",
        "from sklearn.preprocessing import OrdinalEncoder\n",
        "from sklearn.model_selection import train_test_split\n",
        "from sklearn.linear_model import LogisticRegression\n",
        "from sklearn.naive_bayes import MultinomialNB\n",
        "from sklearn.svm import SVC\n",
        "from sklearn.ensemble import RandomForestClassifier\n",
        "from sklearn.neural_network import MLPClassifier\n",
        "from sklearn.model_selection import KFold\n",
        "from sklearn.metrics import accuracy_score\n",
        "from sklearn.model_selection import GridSearchCV\n",
        "from tqdm import tqdm"
      ],
      "execution_count": 317,
      "outputs": [
        {
          "output_type": "stream",
          "text": [
            "[nltk_data] Downloading package vader_lexicon to /root/nltk_data...\n",
            "[nltk_data]   Package vader_lexicon is already up-to-date!\n",
            "[nltk_data] Downloading package stopwords to /root/nltk_data...\n",
            "[nltk_data]   Package stopwords is already up-to-date!\n",
            "[nltk_data] Downloading package wordnet to /root/nltk_data...\n",
            "[nltk_data]   Unzipping corpora/wordnet.zip.\n"
          ],
          "name": "stdout"
        }
      ]
    },
    {
      "cell_type": "code",
      "metadata": {
        "id": "botc7bDSq88x",
        "colab_type": "code",
        "colab": {}
      },
      "source": [
        "data_all = pd.read_json(\"reddit_data.zip\", orient='records', lines=True)\n",
        "data_all = data_all[[\"id\", \"author\", \"created_utc\", \"subreddit\", \"title\", \"num_comments\", \"score\", \"selftext\", \"url\"]]"
      ],
      "execution_count": 0,
      "outputs": []
    },
    {
      "cell_type": "code",
      "metadata": {
        "id": "-0FZyOA9q883",
        "colab_type": "code",
        "colab": {
          "base_uri": "https://localhost:8080/",
          "height": 306
        },
        "outputId": "e1a7017e-fcad-45e8-abf2-9c9a5b7c76e0"
      },
      "source": [
        "data_all.head()"
      ],
      "execution_count": 3,
      "outputs": [
        {
          "output_type": "execute_result",
          "data": {
            "text/html": [
              "<div>\n",
              "<style scoped>\n",
              "    .dataframe tbody tr th:only-of-type {\n",
              "        vertical-align: middle;\n",
              "    }\n",
              "\n",
              "    .dataframe tbody tr th {\n",
              "        vertical-align: top;\n",
              "    }\n",
              "\n",
              "    .dataframe thead th {\n",
              "        text-align: right;\n",
              "    }\n",
              "</style>\n",
              "<table border=\"1\" class=\"dataframe\">\n",
              "  <thead>\n",
              "    <tr style=\"text-align: right;\">\n",
              "      <th></th>\n",
              "      <th>id</th>\n",
              "      <th>author</th>\n",
              "      <th>created_utc</th>\n",
              "      <th>subreddit</th>\n",
              "      <th>title</th>\n",
              "      <th>num_comments</th>\n",
              "      <th>score</th>\n",
              "      <th>selftext</th>\n",
              "      <th>url</th>\n",
              "    </tr>\n",
              "  </thead>\n",
              "  <tbody>\n",
              "    <tr>\n",
              "      <th>0</th>\n",
              "      <td>abcupx</td>\n",
              "      <td>WithGravy</td>\n",
              "      <td>1546300839</td>\n",
              "      <td>gaming</td>\n",
              "      <td>What are some game games to enjoy on a low-end...</td>\n",
              "      <td>31</td>\n",
              "      <td>3</td>\n",
              "      <td>Got a new laptop and want to enjoy some games ...</td>\n",
              "      <td>https://www.reddit.com/r/gaming/comments/abcup...</td>\n",
              "    </tr>\n",
              "    <tr>\n",
              "      <th>1</th>\n",
              "      <td>abcuz2</td>\n",
              "      <td>mikebeingfrank</td>\n",
              "      <td>1546300881</td>\n",
              "      <td>pics</td>\n",
              "      <td>In 1964, an average wage worker had to clock 8...</td>\n",
              "      <td>4</td>\n",
              "      <td>5</td>\n",
              "      <td></td>\n",
              "      <td>https://i.redd.it/j6rqqthwcp721.jpg</td>\n",
              "    </tr>\n",
              "    <tr>\n",
              "      <th>2</th>\n",
              "      <td>abcv1a</td>\n",
              "      <td>[deleted]</td>\n",
              "      <td>1546300892</td>\n",
              "      <td>worldnews</td>\n",
              "      <td>India: Chinese woman, 25, on solo trip to Khaj...</td>\n",
              "      <td>13</td>\n",
              "      <td>23</td>\n",
              "      <td></td>\n",
              "      <td>https://timesofindia.indiatimes.com/city/agra/...</td>\n",
              "    </tr>\n",
              "    <tr>\n",
              "      <th>3</th>\n",
              "      <td>abcv5v</td>\n",
              "      <td>Lucious-Lyon</td>\n",
              "      <td>1546300914</td>\n",
              "      <td>AskReddit</td>\n",
              "      <td>[Serious] American Liberals of Reddit: Without...</td>\n",
              "      <td>76</td>\n",
              "      <td>0</td>\n",
              "      <td>[removed]</td>\n",
              "      <td>https://www.reddit.com/r/AskReddit/comments/ab...</td>\n",
              "    </tr>\n",
              "    <tr>\n",
              "      <th>4</th>\n",
              "      <td>abcv7f</td>\n",
              "      <td>sandollars</td>\n",
              "      <td>1546300923</td>\n",
              "      <td>worldnews</td>\n",
              "      <td>According to the Fiji Government, the Australi...</td>\n",
              "      <td>21</td>\n",
              "      <td>13</td>\n",
              "      <td></td>\n",
              "      <td>http://fijisun.com.fj/2019/01/01/vuniwaqa-prak...</td>\n",
              "    </tr>\n",
              "  </tbody>\n",
              "</table>\n",
              "</div>"
            ],
            "text/plain": [
              "       id  ...                                                url\n",
              "0  abcupx  ...  https://www.reddit.com/r/gaming/comments/abcup...\n",
              "1  abcuz2  ...                https://i.redd.it/j6rqqthwcp721.jpg\n",
              "2  abcv1a  ...  https://timesofindia.indiatimes.com/city/agra/...\n",
              "3  abcv5v  ...  https://www.reddit.com/r/AskReddit/comments/ab...\n",
              "4  abcv7f  ...  http://fijisun.com.fj/2019/01/01/vuniwaqa-prak...\n",
              "\n",
              "[5 rows x 9 columns]"
            ]
          },
          "metadata": {
            "tags": []
          },
          "execution_count": 3
        }
      ]
    },
    {
      "cell_type": "markdown",
      "metadata": {
        "id": "fldUhp8yq887",
        "colab_type": "text"
      },
      "source": [
        "### (b)\tGenerate your unique subset of the data\n",
        "\n",
        "**Make sure you update unique_string with your email address**"
      ]
    },
    {
      "cell_type": "code",
      "metadata": {
        "id": "eFYg_lYKq887",
        "colab_type": "code",
        "colab": {}
      },
      "source": [
        "# DO NOT CHANGE THE FUNCTION BELOW\n",
        "def getMySubreddits(data, my_str):\n",
        "    assert my_str != \"\", \"You must fill in your unique string\"\n",
        "    import random\n",
        "    subreddits = sorted(data[\"subreddit\"].unique().tolist())\n",
        "    rng = random.Random(my_str)\n",
        "    return rng.sample(subreddits, 4)"
      ],
      "execution_count": 0,
      "outputs": []
    },
    {
      "cell_type": "code",
      "metadata": {
        "id": "CvVXDQ09q88-",
        "colab_type": "code",
        "colab": {
          "base_uri": "https://localhost:8080/",
          "height": 34
        },
        "outputId": "72b8bfdf-ee62-44e3-93de-bbe8329216eb"
      },
      "source": [
        "# Fill in your UofT email in the variable unique_string below\n",
        "unique_string = \"da.da@mail.utoronto.ca\" \n",
        "my_subreddits = getMySubreddits(data_all, unique_string)\n",
        "print(\"My subreddits:\", my_subreddits)"
      ],
      "execution_count": 5,
      "outputs": [
        {
          "output_type": "stream",
          "text": [
            "My subreddits: ['soccer', 'Android', 'funny', 'WTF']\n"
          ],
          "name": "stdout"
        }
      ]
    },
    {
      "cell_type": "code",
      "metadata": {
        "id": "0MfW_dkkq89B",
        "colab_type": "code",
        "colab": {}
      },
      "source": [
        "data = data_all[data_all[\"subreddit\"].isin(my_subreddits)]"
      ],
      "execution_count": 0,
      "outputs": []
    },
    {
      "cell_type": "code",
      "metadata": {
        "id": "vAkt9oXfq89H",
        "colab_type": "code",
        "colab": {
          "base_uri": "https://localhost:8080/",
          "height": 538
        },
        "outputId": "dcb08add-0ec7-428a-c345-7c3d4f59a24b"
      },
      "source": [
        "data"
      ],
      "execution_count": 7,
      "outputs": [
        {
          "output_type": "execute_result",
          "data": {
            "text/html": [
              "<div>\n",
              "<style scoped>\n",
              "    .dataframe tbody tr th:only-of-type {\n",
              "        vertical-align: middle;\n",
              "    }\n",
              "\n",
              "    .dataframe tbody tr th {\n",
              "        vertical-align: top;\n",
              "    }\n",
              "\n",
              "    .dataframe thead th {\n",
              "        text-align: right;\n",
              "    }\n",
              "</style>\n",
              "<table border=\"1\" class=\"dataframe\">\n",
              "  <thead>\n",
              "    <tr style=\"text-align: right;\">\n",
              "      <th></th>\n",
              "      <th>id</th>\n",
              "      <th>author</th>\n",
              "      <th>created_utc</th>\n",
              "      <th>subreddit</th>\n",
              "      <th>title</th>\n",
              "      <th>num_comments</th>\n",
              "      <th>score</th>\n",
              "      <th>selftext</th>\n",
              "      <th>url</th>\n",
              "    </tr>\n",
              "  </thead>\n",
              "  <tbody>\n",
              "    <tr>\n",
              "      <th>26</th>\n",
              "      <td>abcwzf</td>\n",
              "      <td>[deleted]</td>\n",
              "      <td>1546301245</td>\n",
              "      <td>soccer</td>\n",
              "      <td>Is the winter transfer window officially open?</td>\n",
              "      <td>0</td>\n",
              "      <td>1</td>\n",
              "      <td>[removed]</td>\n",
              "      <td>https://www.reddit.com/r/soccer/comments/abcwz...</td>\n",
              "    </tr>\n",
              "    <tr>\n",
              "      <th>31</th>\n",
              "      <td>abcx8c</td>\n",
              "      <td>[deleted]</td>\n",
              "      <td>1546301291</td>\n",
              "      <td>funny</td>\n",
              "      <td>When Krispy Kream is life.</td>\n",
              "      <td>8</td>\n",
              "      <td>0</td>\n",
              "      <td>[deleted]</td>\n",
              "      <td>https://i.redd.it/we2ivogeyo721.jpg</td>\n",
              "    </tr>\n",
              "    <tr>\n",
              "      <th>32</th>\n",
              "      <td>abcx7w</td>\n",
              "      <td>[deleted]</td>\n",
              "      <td>1546301310</td>\n",
              "      <td>funny</td>\n",
              "      <td>They started playing the wii sports theme at t...</td>\n",
              "      <td>10</td>\n",
              "      <td>7</td>\n",
              "      <td>[deleted]</td>\n",
              "      <td>https://v.redd.it/3nafm4c0ep721</td>\n",
              "    </tr>\n",
              "    <tr>\n",
              "      <th>47</th>\n",
              "      <td>abcyee</td>\n",
              "      <td>itsahardg</td>\n",
              "      <td>1546301494</td>\n",
              "      <td>funny</td>\n",
              "      <td>No car, no problem</td>\n",
              "      <td>7</td>\n",
              "      <td>0</td>\n",
              "      <td></td>\n",
              "      <td>https://v.redd.it/cmdi8cx9ep721</td>\n",
              "    </tr>\n",
              "    <tr>\n",
              "      <th>58</th>\n",
              "      <td>abczl6</td>\n",
              "      <td>MrBer0</td>\n",
              "      <td>1546301673</td>\n",
              "      <td>funny</td>\n",
              "      <td>Breaking News</td>\n",
              "      <td>10</td>\n",
              "      <td>0</td>\n",
              "      <td></td>\n",
              "      <td>https://i.redd.it/eqswc38qdp721.jpg</td>\n",
              "    </tr>\n",
              "    <tr>\n",
              "      <th>...</th>\n",
              "      <td>...</td>\n",
              "      <td>...</td>\n",
              "      <td>...</td>\n",
              "      <td>...</td>\n",
              "      <td>...</td>\n",
              "      <td>...</td>\n",
              "      <td>...</td>\n",
              "      <td>...</td>\n",
              "      <td>...</td>\n",
              "    </tr>\n",
              "    <tr>\n",
              "      <th>226220</th>\n",
              "      <td>alvsvh</td>\n",
              "      <td>AMP2527</td>\n",
              "      <td>1548978979</td>\n",
              "      <td>funny</td>\n",
              "      <td>Just an absolutely ridiculous video that I fou...</td>\n",
              "      <td>23</td>\n",
              "      <td>14</td>\n",
              "      <td></td>\n",
              "      <td>https://v.redd.it/1yyolu1eiud21</td>\n",
              "    </tr>\n",
              "    <tr>\n",
              "      <th>226229</th>\n",
              "      <td>alvti3</td>\n",
              "      <td>vearz</td>\n",
              "      <td>1548979114</td>\n",
              "      <td>soccer</td>\n",
              "      <td>No Sabaly for Fulham this transfer window - ac...</td>\n",
              "      <td>17</td>\n",
              "      <td>27</td>\n",
              "      <td></td>\n",
              "      <td>https://twitter.com/JakubKrupa/status/10911216...</td>\n",
              "    </tr>\n",
              "    <tr>\n",
              "      <th>226230</th>\n",
              "      <td>alvtk5</td>\n",
              "      <td>1Warrior4All</td>\n",
              "      <td>1548979126</td>\n",
              "      <td>soccer</td>\n",
              "      <td>Porto announces the signing of Loum on loan fr...</td>\n",
              "      <td>7</td>\n",
              "      <td>24</td>\n",
              "      <td></td>\n",
              "      <td>https://twitter.com/FCPorto/status/10911042932...</td>\n",
              "    </tr>\n",
              "    <tr>\n",
              "      <th>226231</th>\n",
              "      <td>alvtlf</td>\n",
              "      <td>MrSqueegee95</td>\n",
              "      <td>1548979132</td>\n",
              "      <td>soccer</td>\n",
              "      <td>DAN JAMES. Deal was chopped and changed too of...</td>\n",
              "      <td>63</td>\n",
              "      <td>29</td>\n",
              "      <td></td>\n",
              "      <td>https://twitter.com/reluctantnicko/status/1091...</td>\n",
              "    </tr>\n",
              "    <tr>\n",
              "      <th>226233</th>\n",
              "      <td>alvttb</td>\n",
              "      <td>ibecharlie</td>\n",
              "      <td>1548979178</td>\n",
              "      <td>soccer</td>\n",
              "      <td>Chelsea now have 42 players out on loan. Enoug...</td>\n",
              "      <td>307</td>\n",
              "      <td>1830</td>\n",
              "      <td></td>\n",
              "      <td>https://i.redd.it/g0mv9qkukud21.jpg</td>\n",
              "    </tr>\n",
              "  </tbody>\n",
              "</table>\n",
              "<p>44695 rows × 9 columns</p>\n",
              "</div>"
            ],
            "text/plain": [
              "            id  ...                                                url\n",
              "26      abcwzf  ...  https://www.reddit.com/r/soccer/comments/abcwz...\n",
              "31      abcx8c  ...                https://i.redd.it/we2ivogeyo721.jpg\n",
              "32      abcx7w  ...                    https://v.redd.it/3nafm4c0ep721\n",
              "47      abcyee  ...                    https://v.redd.it/cmdi8cx9ep721\n",
              "58      abczl6  ...                https://i.redd.it/eqswc38qdp721.jpg\n",
              "...        ...  ...                                                ...\n",
              "226220  alvsvh  ...                    https://v.redd.it/1yyolu1eiud21\n",
              "226229  alvti3  ...  https://twitter.com/JakubKrupa/status/10911216...\n",
              "226230  alvtk5  ...  https://twitter.com/FCPorto/status/10911042932...\n",
              "226231  alvtlf  ...  https://twitter.com/reluctantnicko/status/1091...\n",
              "226233  alvttb  ...                https://i.redd.it/g0mv9qkukud21.jpg\n",
              "\n",
              "[44695 rows x 9 columns]"
            ]
          },
          "metadata": {
            "tags": []
          },
          "execution_count": 7
        }
      ]
    },
    {
      "cell_type": "markdown",
      "metadata": {
        "id": "bznTbs4rq89J",
        "colab_type": "text"
      },
      "source": [
        "## Part 2: Exploratory Data Analysis "
      ]
    },
    {
      "cell_type": "markdown",
      "metadata": {
        "id": "fWHiXWdC_7Ud",
        "colab_type": "text"
      },
      "source": [
        "### 2.1 Identify the Importance of Columns\n",
        "'Title' and 'selftext' are important for sure because they provide us data to do the natural language process. 'Subreddit' is also important for sure because it's the label of texts. 'Created_utc' can tell us when it is posted if we convert the timestamp to date time. For the rest of columns, we can use df.values_counts() or plot the histogram/boxplot to see the features of distribution of each columns except for 'url' where further processing is required."
      ]
    },
    {
      "cell_type": "markdown",
      "metadata": {
        "id": "nubH193hGgc0",
        "colab_type": "text"
      },
      "source": [
        "### 2.1.1 The 'id' column\n",
        "The 'id' column is not useful at all, because every id only appears once. We cannot gain any information from this column."
      ]
    },
    {
      "cell_type": "code",
      "metadata": {
        "id": "ul6o7X5K_6sI",
        "colab_type": "code",
        "colab": {}
      },
      "source": [
        "id_value_counts = data.id.value_counts()"
      ],
      "execution_count": 0,
      "outputs": []
    },
    {
      "cell_type": "code",
      "metadata": {
        "id": "UiP4I5WjGo9e",
        "colab_type": "code",
        "colab": {
          "base_uri": "https://localhost:8080/",
          "height": 296
        },
        "outputId": "0095520a-c8b4-441d-9730-da4b7b1052d3"
      },
      "source": [
        "# Visualize the value_counts\n",
        "plt.hist(id_value_counts)\n",
        "plt.xlabel('id apperance')\n",
        "plt.ylabel('frequency')"
      ],
      "execution_count": 9,
      "outputs": [
        {
          "output_type": "execute_result",
          "data": {
            "text/plain": [
              "Text(0, 0.5, 'frequency')"
            ]
          },
          "metadata": {
            "tags": []
          },
          "execution_count": 9
        },
        {
          "output_type": "display_data",
          "data": {
            "image/png": "[encoded data removed]",
            "text/plain": [
              "<Figure size 432x288 with 1 Axes>"
            ]
          },
          "metadata": {
            "tags": [],
            "needs_background": "light"
          }
        }
      ]
    },
    {
      "cell_type": "markdown",
      "metadata": {
        "id": "nu90pAWnHPop",
        "colab_type": "text"
      },
      "source": [
        "### 2.1.2 The 'author' column\n",
        "The author column is useful because we can identify the very productive authors. Most of the authors only have one posts but there are a few of them have more than 100 posts. We also want to investigate these productive author and see if they have a specific preference on topic. "
      ]
    },
    {
      "cell_type": "code",
      "metadata": {
        "id": "eSKpLPB0AUth",
        "colab_type": "code",
        "colab": {
          "base_uri": "https://localhost:8080/",
          "height": 221
        },
        "outputId": "5b44a742-acc7-4be3-d56a-80b6e54ec436"
      },
      "source": [
        "data.author.value_counts()"
      ],
      "execution_count": 10,
      "outputs": [
        {
          "output_type": "execute_result",
          "data": {
            "text/plain": [
              "[deleted]         9945\n",
              "Meladroit40        911\n",
              "Gungerz            301\n",
              "MatchThreadder     251\n",
              "Warcrocco          245\n",
              "                  ... \n",
              "Good_guy_keanu       1\n",
              "dfdaddy81            1\n",
              "anotherbozo          1\n",
              "jasdevbabra          1\n",
              "baron7755            1\n",
              "Name: author, Length: 20400, dtype: int64"
            ]
          },
          "metadata": {
            "tags": []
          },
          "execution_count": 10
        }
      ]
    },
    {
      "cell_type": "code",
      "metadata": {
        "id": "0efPL8lUHinf",
        "colab_type": "code",
        "colab": {}
      },
      "source": [
        "# Exclude [deleted] and see what information we can get\n",
        "author_value_counts = data.loc[data.author!='[deleted]'].author.value_counts()"
      ],
      "execution_count": 0,
      "outputs": []
    },
    {
      "cell_type": "code",
      "metadata": {
        "id": "H3XvMKRaHWQv",
        "colab_type": "code",
        "colab": {
          "base_uri": "https://localhost:8080/",
          "height": 282
        },
        "outputId": "e465a726-4ca3-43ac-e210-bc1f34a2f50c"
      },
      "source": [
        "# Visualize the author_value_counts\n",
        "plt.boxplot(author_value_counts)\n",
        "plt.ylabel('author apperance')"
      ],
      "execution_count": 12,
      "outputs": [
        {
          "output_type": "execute_result",
          "data": {
            "text/plain": [
              "Text(0, 0.5, 'author apperance')"
            ]
          },
          "metadata": {
            "tags": []
          },
          "execution_count": 12
        },
        {
          "output_type": "display_data",
          "data": {
            "image/png": "[encoded data removed]",
            "text/plain": [
              "<Figure size 432x288 with 1 Axes>"
            ]
          },
          "metadata": {
            "tags": [],
            "needs_background": "light"
          }
        }
      ]
    },
    {
      "cell_type": "markdown",
      "metadata": {
        "id": "VIacFaESJSsx",
        "colab_type": "text"
      },
      "source": [
        "#### Investigate the productive author (>100 posts)\n",
        "We can see all the productive authors only interested in soccer"
      ]
    },
    {
      "cell_type": "code",
      "metadata": {
        "id": "VKu8iPs-I2Lc",
        "colab_type": "code",
        "colab": {
          "base_uri": "https://localhost:8080/",
          "height": 153
        },
        "outputId": "56db6653-5e08-41ba-e0f4-c4dbbf3ec187"
      },
      "source": [
        "data.author.value_counts()[1:8]"
      ],
      "execution_count": 13,
      "outputs": [
        {
          "output_type": "execute_result",
          "data": {
            "text/plain": [
              "Meladroit40            911\n",
              "Gungerz                301\n",
              "MatchThreadder         251\n",
              "Warcrocco              245\n",
              "no_idea-to_nick        214\n",
              "DriesMertens           113\n",
              "Alessio_Romagnoli13    113\n",
              "Name: author, dtype: int64"
            ]
          },
          "metadata": {
            "tags": []
          },
          "execution_count": 13
        }
      ]
    },
    {
      "cell_type": "code",
      "metadata": {
        "id": "sOi3B6MeJxZ7",
        "colab_type": "code",
        "colab": {}
      },
      "source": [
        "authors = ['Meladroit40','Gungerz','MatchThreadder','Warcrocco','no_idea-to_nick','Alessio_Romagnoli13','DriesMertens']"
      ],
      "execution_count": 0,
      "outputs": []
    },
    {
      "cell_type": "code",
      "metadata": {
        "id": "0OKkXbh1JYW2",
        "colab_type": "code",
        "colab": {
          "base_uri": "https://localhost:8080/",
          "height": 493
        },
        "outputId": "695c67b6-8ffa-4427-ee37-6a948d1700ff"
      },
      "source": [
        "for author in authors:\n",
        "  print('The author ',author, ' has posts in topic:')\n",
        "  print(data.loc[data.author==author].subreddit.value_counts())\n",
        "  print('----------------------')"
      ],
      "execution_count": 15,
      "outputs": [
        {
          "output_type": "stream",
          "text": [
            "The author  Meladroit40  has posts in topic:\n",
            "soccer    911\n",
            "Name: subreddit, dtype: int64\n",
            "----------------------\n",
            "The author  Gungerz  has posts in topic:\n",
            "soccer    301\n",
            "Name: subreddit, dtype: int64\n",
            "----------------------\n",
            "The author  MatchThreadder  has posts in topic:\n",
            "soccer    251\n",
            "Name: subreddit, dtype: int64\n",
            "----------------------\n",
            "The author  Warcrocco  has posts in topic:\n",
            "soccer    245\n",
            "Name: subreddit, dtype: int64\n",
            "----------------------\n",
            "The author  no_idea-to_nick  has posts in topic:\n",
            "soccer    214\n",
            "Name: subreddit, dtype: int64\n",
            "----------------------\n",
            "The author  Alessio_Romagnoli13  has posts in topic:\n",
            "soccer    113\n",
            "Name: subreddit, dtype: int64\n",
            "----------------------\n",
            "The author  DriesMertens  has posts in topic:\n",
            "soccer    113\n",
            "Name: subreddit, dtype: int64\n",
            "----------------------\n"
          ],
          "name": "stdout"
        }
      ]
    },
    {
      "cell_type": "markdown",
      "metadata": {
        "id": "V9nlYapPI2xU",
        "colab_type": "text"
      },
      "source": [
        "### 2.1.3 The 'create_utc' column\n",
        "There are more posts at the end of the month, and the number of posts on each date is oscilatting"
      ]
    },
    {
      "cell_type": "code",
      "metadata": {
        "id": "tJYZ3V2JK11t",
        "colab_type": "code",
        "colab": {}
      },
      "source": [
        "utc = data.created_utc.values"
      ],
      "execution_count": 0,
      "outputs": []
    },
    {
      "cell_type": "code",
      "metadata": {
        "id": "N42br3zhLvRA",
        "colab_type": "code",
        "colab": {}
      },
      "source": [
        "# Convert utc to date\n",
        "date = []\n",
        "for i in range (len(utc)):\n",
        "  date.append(datetime.fromtimestamp(utc[i]).date().strftime(\"%m/%d/%Y\"))"
      ],
      "execution_count": 0,
      "outputs": []
    },
    {
      "cell_type": "code",
      "metadata": {
        "id": "MV38ARCFL7uI",
        "colab_type": "code",
        "colab": {
          "base_uri": "https://localhost:8080/",
          "height": 102
        },
        "outputId": "2279e1d5-2f48-494c-ec3e-adcb4c11367b"
      },
      "source": [
        "data.rename(columns={'created_utc':'date'}, inplace=True)"
      ],
      "execution_count": 18,
      "outputs": [
        {
          "output_type": "stream",
          "text": [
            "/usr/local/lib/python3.6/dist-packages/pandas/core/frame.py:4133: SettingWithCopyWarning: \n",
            "A value is trying to be set on a copy of a slice from a DataFrame\n",
            "\n",
            "See the caveats in the documentation: https://pandas.pydata.org/pandas-docs/stable/user_guide/indexing.html#returning-a-view-versus-a-copy\n",
            "  errors=errors,\n"
          ],
          "name": "stderr"
        }
      ]
    },
    {
      "cell_type": "code",
      "metadata": {
        "id": "gKKcKLBtTscf",
        "colab_type": "code",
        "colab": {}
      },
      "source": [
        "data['date'] = date"
      ],
      "execution_count": 0,
      "outputs": []
    },
    {
      "cell_type": "code",
      "metadata": {
        "id": "O_wDkhOlRrVp",
        "colab_type": "code",
        "colab": {
          "base_uri": "https://localhost:8080/",
          "height": 153
        },
        "outputId": "e4976bc7-3fb3-4d1b-f46b-8ec5c829b955"
      },
      "source": [
        "data.date.unique()"
      ],
      "execution_count": 20,
      "outputs": [
        {
          "output_type": "execute_result",
          "data": {
            "text/plain": [
              "array(['01/01/2019', '01/02/2019', '01/03/2019', '01/04/2019',\n",
              "       '01/05/2019', '01/06/2019', '01/07/2019', '01/08/2019',\n",
              "       '01/09/2019', '01/10/2019', '01/11/2019', '01/12/2019',\n",
              "       '01/13/2019', '01/14/2019', '01/15/2019', '01/16/2019',\n",
              "       '01/17/2019', '01/18/2019', '01/19/2019', '01/20/2019',\n",
              "       '01/21/2019', '01/22/2019', '01/23/2019', '01/24/2019',\n",
              "       '01/25/2019', '01/26/2019', '01/27/2019', '01/28/2019',\n",
              "       '01/29/2019', '01/30/2019', '01/31/2019'], dtype=object)"
            ]
          },
          "metadata": {
            "tags": []
          },
          "execution_count": 20
        }
      ]
    },
    {
      "cell_type": "code",
      "metadata": {
        "id": "yYCZJ-DfSFge",
        "colab_type": "code",
        "colab": {}
      },
      "source": [
        "# All the dates are in 2019 Janurary, so we can encode it by days\n",
        "encoded = []\n",
        "for i in range (len(date)):\n",
        "  if date[i][3] == '0':\n",
        "    encoded.append(int(date[i][4]))\n",
        "  else:\n",
        "    encoded.append(int(date[i][3:5]))"
      ],
      "execution_count": 0,
      "outputs": []
    },
    {
      "cell_type": "code",
      "metadata": {
        "id": "xlcfFjYYUY5S",
        "colab_type": "code",
        "colab": {
          "base_uri": "https://localhost:8080/",
          "height": 119
        },
        "outputId": "de70f7ed-afa7-4732-910c-77ea38792f9e"
      },
      "source": [
        "data['date'] = encoded"
      ],
      "execution_count": 22,
      "outputs": [
        {
          "output_type": "stream",
          "text": [
            "/usr/local/lib/python3.6/dist-packages/ipykernel_launcher.py:1: SettingWithCopyWarning: \n",
            "A value is trying to be set on a copy of a slice from a DataFrame.\n",
            "Try using .loc[row_indexer,col_indexer] = value instead\n",
            "\n",
            "See the caveats in the documentation: https://pandas.pydata.org/pandas-docs/stable/user_guide/indexing.html#returning-a-view-versus-a-copy\n",
            "  \"\"\"Entry point for launching an IPython kernel.\n"
          ],
          "name": "stderr"
        }
      ]
    },
    {
      "cell_type": "code",
      "metadata": {
        "id": "UadQzOP5VV9w",
        "colab_type": "code",
        "colab": {
          "base_uri": "https://localhost:8080/",
          "height": 296
        },
        "outputId": "75cca079-14f8-4914-bea5-da15b6f15423"
      },
      "source": [
        "# Visualize the distributino of date\n",
        "plt.hist(encoded,bins=31)\n",
        "plt.xlabel('date')\n",
        "plt.ylabel('frequency')"
      ],
      "execution_count": 23,
      "outputs": [
        {
          "output_type": "execute_result",
          "data": {
            "text/plain": [
              "Text(0, 0.5, 'frequency')"
            ]
          },
          "metadata": {
            "tags": []
          },
          "execution_count": 23
        },
        {
          "output_type": "display_data",
          "data": {
            "image/png": "[encoded data removed]",
            "text/plain": [
              "<Figure size 432x288 with 1 Axes>"
            ]
          },
          "metadata": {
            "tags": [],
            "needs_background": "light"
          }
        }
      ]
    },
    {
      "cell_type": "markdown",
      "metadata": {
        "id": "ykxHDFydK2Lq",
        "colab_type": "text"
      },
      "source": [
        "### 2.1.4 The 'num_comments' and 'score' column\n",
        "These two columns have integer values so we investigate them together. From their boxplot, we can see most posts have zero number of comments and score. Only a few of them have high values. The distribution of these two columns are similar, so we suspect there's correlation between them. Both cosine similariy and Pearson coefficient indicate there's a moderate correlation between them. However, it's not strong enough to remove one. "
      ]
    },
    {
      "cell_type": "code",
      "metadata": {
        "id": "Nrd-LSQSA2gq",
        "colab_type": "code",
        "colab": {}
      },
      "source": [
        "num_comments = data.num_comments.values\n",
        "score = data.score.values"
      ],
      "execution_count": 0,
      "outputs": []
    },
    {
      "cell_type": "code",
      "metadata": {
        "id": "MCJuJuJ2A42E",
        "colab_type": "code",
        "colab": {
          "base_uri": "https://localhost:8080/",
          "height": 282
        },
        "outputId": "5a1d0356-bd19-4cd8-f9d1-28e85c8df7f3"
      },
      "source": [
        "plt.boxplot(num_comments)\n",
        "plt.ylabel('num_comments')"
      ],
      "execution_count": 25,
      "outputs": [
        {
          "output_type": "execute_result",
          "data": {
            "text/plain": [
              "Text(0, 0.5, 'num_comments')"
            ]
          },
          "metadata": {
            "tags": []
          },
          "execution_count": 25
        },
        {
          "output_type": "display_data",
          "data": {
            "image/png": "[encoded data removed]",
            "text/plain": [
              "<Figure size 432x288 with 1 Axes>"
            ]
          },
          "metadata": {
            "tags": [],
            "needs_background": "light"
          }
        }
      ]
    },
    {
      "cell_type": "code",
      "metadata": {
        "id": "PVfZDmA1XyIf",
        "colab_type": "code",
        "colab": {
          "base_uri": "https://localhost:8080/",
          "height": 282
        },
        "outputId": "7fa930a8-ad5c-4f05-a22c-ff672d500d50"
      },
      "source": [
        "plt.boxplot(score)\n",
        "plt.ylabel('score')"
      ],
      "execution_count": 26,
      "outputs": [
        {
          "output_type": "execute_result",
          "data": {
            "text/plain": [
              "Text(0, 0.5, 'score')"
            ]
          },
          "metadata": {
            "tags": []
          },
          "execution_count": 26
        },
        {
          "output_type": "display_data",
          "data": {
            "image/png": "[encoded data removed]",
            "text/plain": [
              "<Figure size 432x288 with 1 Axes>"
            ]
          },
          "metadata": {
            "tags": [],
            "needs_background": "light"
          }
        }
      ]
    },
    {
      "cell_type": "code",
      "metadata": {
        "id": "zKl2f981ZOr9",
        "colab_type": "code",
        "colab": {
          "base_uri": "https://localhost:8080/",
          "height": 34
        },
        "outputId": "7705de63-bfe6-402e-d903-6a4b49a577b5"
      },
      "source": [
        "# See if they have correlation using cosine similarity\n",
        "1 - scipy.spatial.distance.cosine(num_comments,score) "
      ],
      "execution_count": 27,
      "outputs": [
        {
          "output_type": "execute_result",
          "data": {
            "text/plain": [
              "0.6930277132293028"
            ]
          },
          "metadata": {
            "tags": []
          },
          "execution_count": 27
        }
      ]
    },
    {
      "cell_type": "code",
      "metadata": {
        "id": "NY59KXe1ZvhV",
        "colab_type": "code",
        "colab": {
          "base_uri": "https://localhost:8080/",
          "height": 34
        },
        "outputId": "f8bd5a10-0716-4dfd-d4bf-7c9cdd273c4f"
      },
      "source": [
        "# See if they have correlation using Pearson coefficient\n",
        "scipy.stats.pearsonr(num_comments,score)[0]"
      ],
      "execution_count": 28,
      "outputs": [
        {
          "output_type": "execute_result",
          "data": {
            "text/plain": [
              "0.6815121138869001"
            ]
          },
          "metadata": {
            "tags": []
          },
          "execution_count": 28
        }
      ]
    },
    {
      "cell_type": "markdown",
      "metadata": {
        "id": "DVqwG8JVGBLf",
        "colab_type": "text"
      },
      "source": [
        "### 2.1.5 The 'subreddit' column\n",
        "Use histogram to see the distribution of the 4 subreddits. Funny and soccer are significantly more than WTF and Android"
      ]
    },
    {
      "cell_type": "code",
      "metadata": {
        "id": "u93ljFlubMSh",
        "colab_type": "code",
        "colab": {
          "base_uri": "https://localhost:8080/",
          "height": 296
        },
        "outputId": "d16a1c53-05a7-4fc5-f009-130164bbd414"
      },
      "source": [
        "subreddit = data.subreddit.values\n",
        "plt.hist(subreddit)\n",
        "plt.xlabel('subreddit')\n",
        "plt.ylabel('frequency')"
      ],
      "execution_count": 29,
      "outputs": [
        {
          "output_type": "execute_result",
          "data": {
            "text/plain": [
              "Text(0, 0.5, 'frequency')"
            ]
          },
          "metadata": {
            "tags": []
          },
          "execution_count": 29
        },
        {
          "output_type": "display_data",
          "data": {
            "image/png": "[encoded data removed]",
            "text/plain": [
              "<Figure size 432x288 with 1 Axes>"
            ]
          },
          "metadata": {
            "tags": [],
            "needs_background": "light"
          }
        }
      ]
    },
    {
      "cell_type": "markdown",
      "metadata": {
        "id": "-Iaz_43tbnLg",
        "colab_type": "text"
      },
      "source": [
        "### 2.1.6 The 'url' column\n",
        "The 'url' column does provide us some information. If we look at the content of the url, we can catagorize them into image, video and article. From the histogram, we can see each form has a considerable number of data. "
      ]
    },
    {
      "cell_type": "code",
      "metadata": {
        "id": "p8xLBv8dse0b",
        "colab_type": "code",
        "colab": {}
      },
      "source": [
        "form = []\n",
        "for url in data.url.values:\n",
        "  if 'i.redd.it' in url:\n",
        "    form.append('image')\n",
        "  elif 'imgur' in url:\n",
        "    form.append('image')\n",
        "  elif 'instagram.com' in url:\n",
        "    form.append('image')\n",
        "  elif 'v.redd.it' in url:\n",
        "    form.append('video')\n",
        "  elif 'youtube' in url:\n",
        "    form.append('video')\n",
        "  elif 'youtu.be' in url:\n",
        "    form.append('video')\n",
        "  elif 'streamable' in url:\n",
        "    form.append('video')\n",
        "  elif 'streamja' in url:\n",
        "    form.append('video')\n",
        "  else:\n",
        "    form.append('article')\n"
      ],
      "execution_count": 0,
      "outputs": []
    },
    {
      "cell_type": "code",
      "metadata": {
        "id": "JENiOACz-1qc",
        "colab_type": "code",
        "colab": {}
      },
      "source": [
        "data['form'] = form"
      ],
      "execution_count": 0,
      "outputs": []
    },
    {
      "cell_type": "code",
      "metadata": {
        "id": "J9tev_eNcKg7",
        "colab_type": "code",
        "colab": {
          "base_uri": "https://localhost:8080/",
          "height": 296
        },
        "outputId": "d40d9314-31ae-4ff1-f5bb-0ef07e2b8448"
      },
      "source": [
        "plt.hist(form)\n",
        "plt.xlabel('form')\n",
        "plt.ylabel('frequency')"
      ],
      "execution_count": 32,
      "outputs": [
        {
          "output_type": "execute_result",
          "data": {
            "text/plain": [
              "Text(0, 0.5, 'frequency')"
            ]
          },
          "metadata": {
            "tags": []
          },
          "execution_count": 32
        },
        {
          "output_type": "display_data",
          "data": {
            "image/png": "[encoded data removed]",
            "text/plain": [
              "<Figure size 432x288 with 1 Axes>"
            ]
          },
          "metadata": {
            "tags": [],
            "needs_background": "light"
          }
        }
      ]
    },
    {
      "cell_type": "markdown",
      "metadata": {
        "id": "zsboTXVB5ZE5",
        "colab_type": "text"
      },
      "source": [
        "### 2.1.7 The 'title' column\n",
        "For this column, we investigate the length of the titles. Most of the posts have title length less than 30 words and the length can vary from 0 to 60. This can be used as a feature when doing classification. "
      ]
    },
    {
      "cell_type": "code",
      "metadata": {
        "id": "ztSH2U1l5cUO",
        "colab_type": "code",
        "colab": {}
      },
      "source": [
        "titles = data.title.values.copy()"
      ],
      "execution_count": 0,
      "outputs": []
    },
    {
      "cell_type": "code",
      "metadata": {
        "id": "3L0nHkcu5fyI",
        "colab_type": "code",
        "colab": {}
      },
      "source": [
        "tokenizer = tokenize.RegexpTokenizer('\\s+', gaps=True)"
      ],
      "execution_count": 0,
      "outputs": []
    },
    {
      "cell_type": "code",
      "metadata": {
        "id": "pF_q8AYB5f3W",
        "colab_type": "code",
        "colab": {}
      },
      "source": [
        "for i in range (len(titles)):\n",
        "  titles[i] = tokenizer.tokenize(titles[i])\n",
        "  titles[i] = [word.lower() for word in titles[i]]"
      ],
      "execution_count": 0,
      "outputs": []
    },
    {
      "cell_type": "code",
      "metadata": {
        "id": "XBKlXofXAZ0b",
        "colab_type": "code",
        "colab": {}
      },
      "source": [
        "length = []\n",
        "for title in titles:\n",
        "  length.append(len(title))"
      ],
      "execution_count": 0,
      "outputs": []
    },
    {
      "cell_type": "code",
      "metadata": {
        "id": "IJwrmgUyAjaT",
        "colab_type": "code",
        "colab": {}
      },
      "source": [
        "data['length'] = length"
      ],
      "execution_count": 0,
      "outputs": []
    },
    {
      "cell_type": "code",
      "metadata": {
        "id": "7YefTphlAo7e",
        "colab_type": "code",
        "colab": {
          "base_uri": "https://localhost:8080/",
          "height": 296
        },
        "outputId": "19e6b25e-9bae-4d77-acec-57081ed2e0f4"
      },
      "source": [
        "# Visualize the distribution of length\n",
        "plt.hist(length,bins=20)\n",
        "plt.xlabel('length')\n",
        "plt.ylabel('frequency')"
      ],
      "execution_count": 38,
      "outputs": [
        {
          "output_type": "execute_result",
          "data": {
            "text/plain": [
              "Text(0, 0.5, 'frequency')"
            ]
          },
          "metadata": {
            "tags": []
          },
          "execution_count": 38
        },
        {
          "output_type": "display_data",
          "data": {
            "image/png": "[encoded data removed]",
            "text/plain": [
              "<Figure size 432x288 with 1 Axes>"
            ]
          },
          "metadata": {
            "tags": [],
            "needs_background": "light"
          }
        }
      ]
    },
    {
      "cell_type": "markdown",
      "metadata": {
        "id": "HW8R6TaoCdTV",
        "colab_type": "text"
      },
      "source": [
        "### 2.2 Remove Symbols\n",
        "The dollar sign and star sign need to be removed. Since the topics include Andriod and soccer, the dollar sign will be mostly related to price of devices or transfer fee. The dollar signs are likely to be followed by a number. In soccer transfer market, the tranfer fees are usually calculated in Euros or Pounds, so we want to remove all the $, € and £ to make it uniform. The star sign are often used in dirty words like \"f**k\". We want to remove it to normalize these dirty words. "
      ]
    },
    {
      "cell_type": "markdown",
      "metadata": {
        "id": "0PfN3nroH6iI",
        "colab_type": "text"
      },
      "source": [
        "### 2.3 Outliers and Imbalance\n",
        "In terms of label, the data is not quite imbalanced. Although soccer and funny are more than WTF and Android, all 4 labels have considerable amount of data. The number of comment and score features are very imbalance with many outliers. Most of their values are zeros and have a few very large values. The form and date features are balanced. The length feature has a skewed distribution. All the visualizations can be found above. "
      ]
    },
    {
      "cell_type": "markdown",
      "metadata": {
        "id": "xTC0bEGjq89K",
        "colab_type": "text"
      },
      "source": [
        "## Part 3: Classification"
      ]
    },
    {
      "cell_type": "markdown",
      "metadata": {
        "id": "d6JzJ1tQJ7ol",
        "colab_type": "text"
      },
      "source": [
        "### 3.1 Encoding"
      ]
    },
    {
      "cell_type": "code",
      "metadata": {
        "id": "RFHVj366Mwnk",
        "colab_type": "code",
        "colab": {}
      },
      "source": [
        "data = data.reset_index()"
      ],
      "execution_count": 0,
      "outputs": []
    },
    {
      "cell_type": "code",
      "metadata": {
        "id": "3rBJaBRyLMRZ",
        "colab_type": "code",
        "colab": {
          "base_uri": "https://localhost:8080/",
          "height": 419
        },
        "outputId": "3fa6355c-4bb3-4b62-b446-4e5a263a6088"
      },
      "source": [
        "# Grab the useful columns\n",
        "df = data[['author','date','subreddit','num_comments','score','form','length']].copy()\n",
        "df"
      ],
      "execution_count": 40,
      "outputs": [
        {
          "output_type": "execute_result",
          "data": {
            "text/html": [
              "<div>\n",
              "<style scoped>\n",
              "    .dataframe tbody tr th:only-of-type {\n",
              "        vertical-align: middle;\n",
              "    }\n",
              "\n",
              "    .dataframe tbody tr th {\n",
              "        vertical-align: top;\n",
              "    }\n",
              "\n",
              "    .dataframe thead th {\n",
              "        text-align: right;\n",
              "    }\n",
              "</style>\n",
              "<table border=\"1\" class=\"dataframe\">\n",
              "  <thead>\n",
              "    <tr style=\"text-align: right;\">\n",
              "      <th></th>\n",
              "      <th>author</th>\n",
              "      <th>date</th>\n",
              "      <th>subreddit</th>\n",
              "      <th>num_comments</th>\n",
              "      <th>score</th>\n",
              "      <th>form</th>\n",
              "      <th>length</th>\n",
              "    </tr>\n",
              "  </thead>\n",
              "  <tbody>\n",
              "    <tr>\n",
              "      <th>0</th>\n",
              "      <td>[deleted]</td>\n",
              "      <td>1</td>\n",
              "      <td>soccer</td>\n",
              "      <td>0</td>\n",
              "      <td>1</td>\n",
              "      <td>article</td>\n",
              "      <td>7</td>\n",
              "    </tr>\n",
              "    <tr>\n",
              "      <th>1</th>\n",
              "      <td>[deleted]</td>\n",
              "      <td>1</td>\n",
              "      <td>funny</td>\n",
              "      <td>8</td>\n",
              "      <td>0</td>\n",
              "      <td>image</td>\n",
              "      <td>5</td>\n",
              "    </tr>\n",
              "    <tr>\n",
              "      <th>2</th>\n",
              "      <td>[deleted]</td>\n",
              "      <td>1</td>\n",
              "      <td>funny</td>\n",
              "      <td>10</td>\n",
              "      <td>7</td>\n",
              "      <td>video</td>\n",
              "      <td>11</td>\n",
              "    </tr>\n",
              "    <tr>\n",
              "      <th>3</th>\n",
              "      <td>itsahardg</td>\n",
              "      <td>1</td>\n",
              "      <td>funny</td>\n",
              "      <td>7</td>\n",
              "      <td>0</td>\n",
              "      <td>video</td>\n",
              "      <td>4</td>\n",
              "    </tr>\n",
              "    <tr>\n",
              "      <th>4</th>\n",
              "      <td>MrBer0</td>\n",
              "      <td>1</td>\n",
              "      <td>funny</td>\n",
              "      <td>10</td>\n",
              "      <td>0</td>\n",
              "      <td>image</td>\n",
              "      <td>2</td>\n",
              "    </tr>\n",
              "    <tr>\n",
              "      <th>...</th>\n",
              "      <td>...</td>\n",
              "      <td>...</td>\n",
              "      <td>...</td>\n",
              "      <td>...</td>\n",
              "      <td>...</td>\n",
              "      <td>...</td>\n",
              "      <td>...</td>\n",
              "    </tr>\n",
              "    <tr>\n",
              "      <th>44690</th>\n",
              "      <td>AMP2527</td>\n",
              "      <td>31</td>\n",
              "      <td>funny</td>\n",
              "      <td>23</td>\n",
              "      <td>14</td>\n",
              "      <td>video</td>\n",
              "      <td>18</td>\n",
              "    </tr>\n",
              "    <tr>\n",
              "      <th>44691</th>\n",
              "      <td>vearz</td>\n",
              "      <td>31</td>\n",
              "      <td>soccer</td>\n",
              "      <td>17</td>\n",
              "      <td>27</td>\n",
              "      <td>article</td>\n",
              "      <td>30</td>\n",
              "    </tr>\n",
              "    <tr>\n",
              "      <th>44692</th>\n",
              "      <td>1Warrior4All</td>\n",
              "      <td>31</td>\n",
              "      <td>soccer</td>\n",
              "      <td>7</td>\n",
              "      <td>24</td>\n",
              "      <td>article</td>\n",
              "      <td>11</td>\n",
              "    </tr>\n",
              "    <tr>\n",
              "      <th>44693</th>\n",
              "      <td>MrSqueegee95</td>\n",
              "      <td>31</td>\n",
              "      <td>soccer</td>\n",
              "      <td>63</td>\n",
              "      <td>29</td>\n",
              "      <td>article</td>\n",
              "      <td>32</td>\n",
              "    </tr>\n",
              "    <tr>\n",
              "      <th>44694</th>\n",
              "      <td>ibecharlie</td>\n",
              "      <td>31</td>\n",
              "      <td>soccer</td>\n",
              "      <td>307</td>\n",
              "      <td>1830</td>\n",
              "      <td>image</td>\n",
              "      <td>21</td>\n",
              "    </tr>\n",
              "  </tbody>\n",
              "</table>\n",
              "<p>44695 rows × 7 columns</p>\n",
              "</div>"
            ],
            "text/plain": [
              "             author  date subreddit  num_comments  score     form  length\n",
              "0         [deleted]     1    soccer             0      1  article       7\n",
              "1         [deleted]     1     funny             8      0    image       5\n",
              "2         [deleted]     1     funny            10      7    video      11\n",
              "3         itsahardg     1     funny             7      0    video       4\n",
              "4            MrBer0     1     funny            10      0    image       2\n",
              "...             ...   ...       ...           ...    ...      ...     ...\n",
              "44690       AMP2527    31     funny            23     14    video      18\n",
              "44691         vearz    31    soccer            17     27  article      30\n",
              "44692  1Warrior4All    31    soccer             7     24  article      11\n",
              "44693  MrSqueegee95    31    soccer            63     29  article      32\n",
              "44694    ibecharlie    31    soccer           307   1830    image      21\n",
              "\n",
              "[44695 rows x 7 columns]"
            ]
          },
          "metadata": {
            "tags": []
          },
          "execution_count": 40
        }
      ]
    },
    {
      "cell_type": "code",
      "metadata": {
        "id": "6Xf-ndy8M_Hy",
        "colab_type": "code",
        "colab": {}
      },
      "source": [
        "count_author = Counter()\n",
        "authors = df.author.values\n",
        "for i in range (len(authors)):\n",
        "  count_author.update([authors[i]])"
      ],
      "execution_count": 0,
      "outputs": []
    },
    {
      "cell_type": "code",
      "metadata": {
        "id": "jt_aCcWIObCD",
        "colab_type": "code",
        "colab": {}
      },
      "source": [
        "# Encode author by their appearance and assign 0 to [deleted]\n",
        "author_dict = dict(count_author.most_common(len(df.author.unique())))\n",
        "author_dict['[deleted]'] = 0"
      ],
      "execution_count": 0,
      "outputs": []
    },
    {
      "cell_type": "code",
      "metadata": {
        "id": "TPujH3RMRhCL",
        "colab_type": "code",
        "colab": {}
      },
      "source": [
        "author_encode = []\n",
        "for i in range (len(authors)):\n",
        "  author_encode.append(author_dict[authors[i]])"
      ],
      "execution_count": 0,
      "outputs": []
    },
    {
      "cell_type": "code",
      "metadata": {
        "id": "-SslZ7KVSl3g",
        "colab_type": "code",
        "colab": {}
      },
      "source": [
        "df['author'] = author_encode"
      ],
      "execution_count": 0,
      "outputs": []
    },
    {
      "cell_type": "code",
      "metadata": {
        "id": "C4shcKQoUQV_",
        "colab_type": "code",
        "colab": {}
      },
      "source": [
        "forms = df.form.values.copy()"
      ],
      "execution_count": 0,
      "outputs": []
    },
    {
      "cell_type": "code",
      "metadata": {
        "id": "ramZhCFAUabN",
        "colab_type": "code",
        "colab": {}
      },
      "source": [
        "# Encode forms by One-hot since they \n",
        "enc = OneHotEncoder(handle_unknown='ignore')\n",
        "forms = enc.fit_transform(forms.reshape(-1,1)).toarray()"
      ],
      "execution_count": 0,
      "outputs": []
    },
    {
      "cell_type": "code",
      "metadata": {
        "id": "FTmcC13JW-3u",
        "colab_type": "code",
        "colab": {}
      },
      "source": [
        "article = forms[:,0]\n",
        "image = forms[:,1]\n",
        "video = forms[:,2]"
      ],
      "execution_count": 0,
      "outputs": []
    },
    {
      "cell_type": "code",
      "metadata": {
        "id": "oUV52sX-Xor1",
        "colab_type": "code",
        "colab": {}
      },
      "source": [
        "df['article'] = article\n",
        "df['image'] = image\n",
        "df['video'] = video"
      ],
      "execution_count": 0,
      "outputs": []
    },
    {
      "cell_type": "code",
      "metadata": {
        "id": "MatKfAEtXvyn",
        "colab_type": "code",
        "colab": {}
      },
      "source": [
        "# One-hot and ordinal encode the labels\n",
        "subreddits = df.subreddit.values.copy()\n",
        "enc = OneHotEncoder(handle_unknown='ignore')\n",
        "onehot_lables = enc.fit_transform(subreddits.reshape(-1,1)).toarray()\n",
        "ode = OrdinalEncoder()\n",
        "ordinal_lables = ode.fit_transform(subreddits.reshape(-1,1))"
      ],
      "execution_count": 0,
      "outputs": []
    },
    {
      "cell_type": "code",
      "metadata": {
        "id": "rVlyJacmgrqb",
        "colab_type": "code",
        "colab": {
          "base_uri": "https://localhost:8080/",
          "height": 204
        },
        "outputId": "8a9a06d7-8f84-41bf-ce83-e02dd9a33278"
      },
      "source": [
        "df.head()"
      ],
      "execution_count": 50,
      "outputs": [
        {
          "output_type": "execute_result",
          "data": {
            "text/html": [
              "<div>\n",
              "<style scoped>\n",
              "    .dataframe tbody tr th:only-of-type {\n",
              "        vertical-align: middle;\n",
              "    }\n",
              "\n",
              "    .dataframe tbody tr th {\n",
              "        vertical-align: top;\n",
              "    }\n",
              "\n",
              "    .dataframe thead th {\n",
              "        text-align: right;\n",
              "    }\n",
              "</style>\n",
              "<table border=\"1\" class=\"dataframe\">\n",
              "  <thead>\n",
              "    <tr style=\"text-align: right;\">\n",
              "      <th></th>\n",
              "      <th>author</th>\n",
              "      <th>date</th>\n",
              "      <th>subreddit</th>\n",
              "      <th>num_comments</th>\n",
              "      <th>score</th>\n",
              "      <th>form</th>\n",
              "      <th>length</th>\n",
              "      <th>article</th>\n",
              "      <th>image</th>\n",
              "      <th>video</th>\n",
              "    </tr>\n",
              "  </thead>\n",
              "  <tbody>\n",
              "    <tr>\n",
              "      <th>0</th>\n",
              "      <td>0</td>\n",
              "      <td>1</td>\n",
              "      <td>soccer</td>\n",
              "      <td>0</td>\n",
              "      <td>1</td>\n",
              "      <td>article</td>\n",
              "      <td>7</td>\n",
              "      <td>1.0</td>\n",
              "      <td>0.0</td>\n",
              "      <td>0.0</td>\n",
              "    </tr>\n",
              "    <tr>\n",
              "      <th>1</th>\n",
              "      <td>0</td>\n",
              "      <td>1</td>\n",
              "      <td>funny</td>\n",
              "      <td>8</td>\n",
              "      <td>0</td>\n",
              "      <td>image</td>\n",
              "      <td>5</td>\n",
              "      <td>0.0</td>\n",
              "      <td>1.0</td>\n",
              "      <td>0.0</td>\n",
              "    </tr>\n",
              "    <tr>\n",
              "      <th>2</th>\n",
              "      <td>0</td>\n",
              "      <td>1</td>\n",
              "      <td>funny</td>\n",
              "      <td>10</td>\n",
              "      <td>7</td>\n",
              "      <td>video</td>\n",
              "      <td>11</td>\n",
              "      <td>0.0</td>\n",
              "      <td>0.0</td>\n",
              "      <td>1.0</td>\n",
              "    </tr>\n",
              "    <tr>\n",
              "      <th>3</th>\n",
              "      <td>1</td>\n",
              "      <td>1</td>\n",
              "      <td>funny</td>\n",
              "      <td>7</td>\n",
              "      <td>0</td>\n",
              "      <td>video</td>\n",
              "      <td>4</td>\n",
              "      <td>0.0</td>\n",
              "      <td>0.0</td>\n",
              "      <td>1.0</td>\n",
              "    </tr>\n",
              "    <tr>\n",
              "      <th>4</th>\n",
              "      <td>1</td>\n",
              "      <td>1</td>\n",
              "      <td>funny</td>\n",
              "      <td>10</td>\n",
              "      <td>0</td>\n",
              "      <td>image</td>\n",
              "      <td>2</td>\n",
              "      <td>0.0</td>\n",
              "      <td>1.0</td>\n",
              "      <td>0.0</td>\n",
              "    </tr>\n",
              "  </tbody>\n",
              "</table>\n",
              "</div>"
            ],
            "text/plain": [
              "   author  date subreddit  num_comments  ...  length article  image  video\n",
              "0       0     1    soccer             0  ...       7     1.0    0.0    0.0\n",
              "1       0     1     funny             8  ...       5     0.0    1.0    0.0\n",
              "2       0     1     funny            10  ...      11     0.0    0.0    1.0\n",
              "3       1     1     funny             7  ...       4     0.0    0.0    1.0\n",
              "4       1     1     funny            10  ...       2     0.0    1.0    0.0\n",
              "\n",
              "[5 rows x 10 columns]"
            ]
          },
          "metadata": {
            "tags": []
          },
          "execution_count": 50
        }
      ]
    },
    {
      "cell_type": "markdown",
      "metadata": {
        "id": "8Dy-M5UaYlhd",
        "colab_type": "text"
      },
      "source": [
        "### 3.2 Choose Metric\n",
        "The possible metrics for multi-class classification are precision ,recall, accuracy and F1. In this case we are not going to use precision and recall, since neither of false positive and false negative have a larger cost than the other. We choose accuracy rather than F1 because the data is not actually uneven. Although soccer and funny are more than WTF and Android, they all have considerable amount of data. "
      ]
    },
    {
      "cell_type": "markdown",
      "metadata": {
        "id": "VLIKIb4sa5wm",
        "colab_type": "text"
      },
      "source": [
        "### 3.3 Split the Data and Justify the Evaluation Method\n",
        "We are going to split the data into train and test group by 70% and 30% respectively. For the training set, we will do a 5-fold cross validation to tune the hyperparameter and reduce the variance of performance. We choose K = 5 for less computational cost. We will try 3 feature sets:\n",
        "1. Include all columns\n",
        "2. Choose author, score and length\n",
        "3. Choose date, num_comment and form"
      ]
    },
    {
      "cell_type": "code",
      "metadata": {
        "id": "TH2U2ULaghDK",
        "colab_type": "code",
        "colab": {}
      },
      "source": [
        "first_set = df[['author', 'date', 'num_comments', 'score', 'length', 'article', 'image', 'video']]\n",
        "second_set = df[['author','score','length']]\n",
        "third_set = df[['date', 'num_comments', 'article','image','video']]"
      ],
      "execution_count": 0,
      "outputs": []
    },
    {
      "cell_type": "markdown",
      "metadata": {
        "id": "ilp56I6yc62j",
        "colab_type": "text"
      },
      "source": [
        "### 3.4 Logistic Regression"
      ]
    },
    {
      "cell_type": "markdown",
      "metadata": {
        "id": "tWo9UaauhrZN",
        "colab_type": "text"
      },
      "source": [
        "First Set"
      ]
    },
    {
      "cell_type": "code",
      "metadata": {
        "id": "j4LeMgwShkUy",
        "colab_type": "code",
        "colab": {}
      },
      "source": [
        "X_train, X_test, y_train, y_test = train_test_split(first_set, ordinal_lables, test_size = 0.3, random_state = 42)"
      ],
      "execution_count": 0,
      "outputs": []
    },
    {
      "cell_type": "code",
      "metadata": {
        "id": "5QJyvj8booKc",
        "colab_type": "code",
        "colab": {}
      },
      "source": [
        "Lgs = LogisticRegression(max_iter=10000)"
      ],
      "execution_count": 0,
      "outputs": []
    },
    {
      "cell_type": "code",
      "metadata": {
        "id": "71ygrPU7aykP",
        "colab_type": "code",
        "colab": {
          "base_uri": "https://localhost:8080/",
          "height": 105
        },
        "outputId": "eabc4a88-9c01-4519-9d6a-0b028ba66458"
      },
      "source": [
        "# Hyperparameter tuning by grid search on cross validation\n",
        "C = [0.001,0.01,0.05,0.1,0.5,1,5,10]\n",
        "param_grid = dict(C=C)\n",
        "grid = GridSearchCV(estimator=Lgs, param_grid=param_grid, scoring='accuracy', verbose=0, n_jobs=-1, cv=5)\n",
        "result = grid.fit(X_train,y_train)\n",
        "\n",
        "print('Best Score: ', result.best_score_)\n",
        "print('Best Parameters: ', result.best_params_)"
      ],
      "execution_count": 54,
      "outputs": [
        {
          "output_type": "stream",
          "text": [
            "/usr/local/lib/python3.6/dist-packages/sklearn/utils/validation.py:760: DataConversionWarning: A column-vector y was passed when a 1d array was expected. Please change the shape of y to (n_samples, ), for example using ravel().\n",
            "  y = column_or_1d(y, warn=True)\n"
          ],
          "name": "stderr"
        },
        {
          "output_type": "stream",
          "text": [
            "Best Score:  0.7303905633999286\n",
            "Best Parameters:  {'C': 10}\n"
          ],
          "name": "stdout"
        }
      ]
    },
    {
      "cell_type": "markdown",
      "metadata": {
        "id": "tpvlA5g2w6Cr",
        "colab_type": "text"
      },
      "source": [
        "The Best parameters found by grid search on cross validation is C = 10, with accuracy of 0.73. Since the hyperparameter tuning takes super long time, we are going to assume this is also the best parameters for second and third sets. "
      ]
    },
    {
      "cell_type": "code",
      "metadata": {
        "id": "oa9Y-N4sw44X",
        "colab_type": "code",
        "colab": {
          "base_uri": "https://localhost:8080/",
          "height": 71
        },
        "outputId": "cc88e712-92a0-4d88-c3d9-f689eb0a8ddb"
      },
      "source": [
        "Lgs = LogisticRegression(max_iter=10000,C=10).fit(X_train, y_train)"
      ],
      "execution_count": 55,
      "outputs": [
        {
          "output_type": "stream",
          "text": [
            "/usr/local/lib/python3.6/dist-packages/sklearn/utils/validation.py:760: DataConversionWarning: A column-vector y was passed when a 1d array was expected. Please change the shape of y to (n_samples, ), for example using ravel().\n",
            "  y = column_or_1d(y, warn=True)\n"
          ],
          "name": "stderr"
        }
      ]
    },
    {
      "cell_type": "code",
      "metadata": {
        "id": "25QRqhYXxrne",
        "colab_type": "code",
        "colab": {}
      },
      "source": [
        "first_lgs_train = Lgs.score(X_train, y_train)\n",
        "first_lgs_test = Lgs.score(X_test, y_test)"
      ],
      "execution_count": 0,
      "outputs": []
    },
    {
      "cell_type": "code",
      "metadata": {
        "id": "OhooDAg5yCM1",
        "colab_type": "code",
        "colab": {
          "base_uri": "https://localhost:8080/",
          "height": 34
        },
        "outputId": "2855673d-9eb1-4876-8f82-5f5eac6a1310"
      },
      "source": [
        "first_lgs_train"
      ],
      "execution_count": 57,
      "outputs": [
        {
          "output_type": "execute_result",
          "data": {
            "text/plain": [
              "0.7293677683308828"
            ]
          },
          "metadata": {
            "tags": []
          },
          "execution_count": 57
        }
      ]
    },
    {
      "cell_type": "code",
      "metadata": {
        "id": "3l_q1TjIyEcr",
        "colab_type": "code",
        "colab": {
          "base_uri": "https://localhost:8080/",
          "height": 34
        },
        "outputId": "0b19c81e-0b88-404c-fc17-e78d732b4e8f"
      },
      "source": [
        "first_lgs_test"
      ],
      "execution_count": 58,
      "outputs": [
        {
          "output_type": "execute_result",
          "data": {
            "text/plain": [
              "0.723245581325975"
            ]
          },
          "metadata": {
            "tags": []
          },
          "execution_count": 58
        }
      ]
    },
    {
      "cell_type": "markdown",
      "metadata": {
        "id": "EYn7Y6p1yPr4",
        "colab_type": "text"
      },
      "source": [
        "Second Set"
      ]
    },
    {
      "cell_type": "code",
      "metadata": {
        "id": "BfjXWWDbyTgP",
        "colab_type": "code",
        "colab": {}
      },
      "source": [
        "X_train, X_test, y_train, y_test = train_test_split(second_set, ordinal_lables, test_size = 0.3, random_state = 42)"
      ],
      "execution_count": 0,
      "outputs": []
    },
    {
      "cell_type": "code",
      "metadata": {
        "colab_type": "code",
        "id": "rQ3aUqivyqt4",
        "colab": {}
      },
      "source": [
        "Lgs = LogisticRegression(max_iter=10000,C=10).fit(X_train, y_train)"
      ],
      "execution_count": 0,
      "outputs": []
    },
    {
      "cell_type": "code",
      "metadata": {
        "colab_type": "code",
        "id": "gAf2Otfryqt7",
        "colab": {}
      },
      "source": [
        "second_lgs_train = Lgs.score(X_train, y_train)\n",
        "second_lgs_test = Lgs.score(X_test, y_test)"
      ],
      "execution_count": 0,
      "outputs": []
    },
    {
      "cell_type": "code",
      "metadata": {
        "colab_type": "code",
        "outputId": "8cb9bff5-c669-4bf0-ffca-16ca7cccbccb",
        "id": "XLUQjIKzyqt9",
        "colab": {
          "base_uri": "https://localhost:8080/",
          "height": 34
        }
      },
      "source": [
        "second_lgs_train"
      ],
      "execution_count": 62,
      "outputs": [
        {
          "output_type": "execute_result",
          "data": {
            "text/plain": [
              "0.6181039442562168"
            ]
          },
          "metadata": {
            "tags": []
          },
          "execution_count": 62
        }
      ]
    },
    {
      "cell_type": "code",
      "metadata": {
        "colab_type": "code",
        "outputId": "d03ecb58-ec43-4986-f45c-8bb747aad8ee",
        "id": "BkZWlGldyquA",
        "colab": {
          "base_uri": "https://localhost:8080/",
          "height": 34
        }
      },
      "source": [
        "second_lgs_test"
      ],
      "execution_count": 63,
      "outputs": [
        {
          "output_type": "execute_result",
          "data": {
            "text/plain": [
              "0.6102617644865389"
            ]
          },
          "metadata": {
            "tags": []
          },
          "execution_count": 63
        }
      ]
    },
    {
      "cell_type": "markdown",
      "metadata": {
        "id": "XANtjUMLzLpp",
        "colab_type": "text"
      },
      "source": [
        "Third Set"
      ]
    },
    {
      "cell_type": "code",
      "metadata": {
        "colab_type": "code",
        "id": "mt80Tu6CzOy3",
        "colab": {}
      },
      "source": [
        "X_train, X_test, y_train, y_test = train_test_split(third_set, ordinal_lables, test_size = 0.3, random_state = 42)"
      ],
      "execution_count": 0,
      "outputs": []
    },
    {
      "cell_type": "code",
      "metadata": {
        "colab_type": "code",
        "id": "dZYScsVRzOy7",
        "colab": {}
      },
      "source": [
        "Lgs = LogisticRegression(max_iter=10000,C=10).fit(X_train, y_train)"
      ],
      "execution_count": 0,
      "outputs": []
    },
    {
      "cell_type": "code",
      "metadata": {
        "colab_type": "code",
        "id": "bOmkprcfzOy-",
        "colab": {}
      },
      "source": [
        "third_lgs_train = Lgs.score(X_train, y_train)\n",
        "third_lgs_test = Lgs.score(X_test, y_test)"
      ],
      "execution_count": 0,
      "outputs": []
    },
    {
      "cell_type": "code",
      "metadata": {
        "colab_type": "code",
        "outputId": "720bf168-65a0-4e12-9708-0daf0234b1f2",
        "id": "3w157sh9zOzB",
        "colab": {
          "base_uri": "https://localhost:8080/",
          "height": 34
        }
      },
      "source": [
        "third_lgs_train"
      ],
      "execution_count": 67,
      "outputs": [
        {
          "output_type": "execute_result",
          "data": {
            "text/plain": [
              "0.6879115259221377"
            ]
          },
          "metadata": {
            "tags": []
          },
          "execution_count": 67
        }
      ]
    },
    {
      "cell_type": "code",
      "metadata": {
        "colab_type": "code",
        "outputId": "5ca1cf3c-f65e-4915-ffde-91064b6dcad6",
        "id": "dAjmxBT6zOzD",
        "colab": {
          "base_uri": "https://localhost:8080/",
          "height": 34
        }
      },
      "source": [
        "third_lgs_test"
      ],
      "execution_count": 68,
      "outputs": [
        {
          "output_type": "execute_result",
          "data": {
            "text/plain": [
              "0.6840927735103289"
            ]
          },
          "metadata": {
            "tags": []
          },
          "execution_count": 68
        }
      ]
    },
    {
      "cell_type": "markdown",
      "metadata": {
        "id": "2QfnjHd7zj4h",
        "colab_type": "text"
      },
      "source": [
        "### 3.5 Naive Bayes\n"
      ]
    },
    {
      "cell_type": "markdown",
      "metadata": {
        "id": "mOkg8Z1u0Dq-",
        "colab_type": "text"
      },
      "source": [
        "First Set"
      ]
    },
    {
      "cell_type": "code",
      "metadata": {
        "colab_type": "code",
        "id": "VN-tKNXDzvLo",
        "colab": {}
      },
      "source": [
        "X_train, X_test, y_train, y_test = train_test_split(first_set, ordinal_lables, test_size = 0.3, random_state = 42)"
      ],
      "execution_count": 0,
      "outputs": []
    },
    {
      "cell_type": "code",
      "metadata": {
        "id": "By3Y9iH6MH58",
        "colab_type": "code",
        "colab": {}
      },
      "source": [
        "NB = MultinomialNB()"
      ],
      "execution_count": 0,
      "outputs": []
    },
    {
      "cell_type": "code",
      "metadata": {
        "id": "ub9tyt5AMMUR",
        "colab_type": "code",
        "outputId": "5d685215-8a06-429a-d6a2-677adaa10c90",
        "colab": {
          "base_uri": "https://localhost:8080/",
          "height": 105
        }
      },
      "source": [
        "alpha = [0.1,1,10,20,30,50]\n",
        "param_grid = dict(alpha=alpha)\n",
        "grid = GridSearchCV(estimator=NB, param_grid=param_grid, scoring='accuracy', verbose=0, n_jobs=-1, cv=5)\n",
        "result = grid.fit(X_train,y_train)\n",
        "\n",
        "print('Best Score: ', result.best_score_)\n",
        "print('Best Parameters: ', result.best_params_)"
      ],
      "execution_count": 71,
      "outputs": [
        {
          "output_type": "stream",
          "text": [
            "Best Score:  0.27875105991867566\n",
            "Best Parameters:  {'alpha': 0.1}\n"
          ],
          "name": "stdout"
        },
        {
          "output_type": "stream",
          "text": [
            "/usr/local/lib/python3.6/dist-packages/sklearn/utils/validation.py:760: DataConversionWarning: A column-vector y was passed when a 1d array was expected. Please change the shape of y to (n_samples, ), for example using ravel().\n",
            "  y = column_or_1d(y, warn=True)\n"
          ],
          "name": "stderr"
        }
      ]
    },
    {
      "cell_type": "code",
      "metadata": {
        "colab_type": "code",
        "id": "W98s642m0aZk",
        "colab": {}
      },
      "source": [
        "NB = MultinomialNB(alpha=0.1).fit(X_train, y_train)"
      ],
      "execution_count": 0,
      "outputs": []
    },
    {
      "cell_type": "code",
      "metadata": {
        "colab_type": "code",
        "id": "NROhRN5M0aZn",
        "colab": {}
      },
      "source": [
        "first_NB_train = NB.score(X_train, y_train)\n",
        "first_NB_test = NB.score(X_test, y_test)"
      ],
      "execution_count": 0,
      "outputs": []
    },
    {
      "cell_type": "code",
      "metadata": {
        "colab_type": "code",
        "outputId": "43db82a8-75d4-42f5-b7ff-15484ae62db6",
        "id": "aw64xcp_0aZp",
        "colab": {
          "base_uri": "https://localhost:8080/",
          "height": 34
        }
      },
      "source": [
        "first_NB_train"
      ],
      "execution_count": 74,
      "outputs": [
        {
          "output_type": "execute_result",
          "data": {
            "text/plain": [
              "0.2785271367384773"
            ]
          },
          "metadata": {
            "tags": []
          },
          "execution_count": 74
        }
      ]
    },
    {
      "cell_type": "code",
      "metadata": {
        "colab_type": "code",
        "outputId": "1ff46a9d-20cc-430e-dff5-01d72f7af249",
        "id": "5WIZdiAF0aZs",
        "colab": {
          "base_uri": "https://localhost:8080/",
          "height": 34
        }
      },
      "source": [
        "first_NB_test"
      ],
      "execution_count": 75,
      "outputs": [
        {
          "output_type": "execute_result",
          "data": {
            "text/plain": [
              "0.28257140726377805"
            ]
          },
          "metadata": {
            "tags": []
          },
          "execution_count": 75
        }
      ]
    },
    {
      "cell_type": "markdown",
      "metadata": {
        "id": "S1nSA28z01Z4",
        "colab_type": "text"
      },
      "source": [
        "Second Set"
      ]
    },
    {
      "cell_type": "code",
      "metadata": {
        "colab_type": "code",
        "id": "h7xJVcvA06L9",
        "colab": {}
      },
      "source": [
        "X_train, X_test, y_train, y_test = train_test_split(second_set, ordinal_lables, test_size = 0.3, random_state = 42)"
      ],
      "execution_count": 0,
      "outputs": []
    },
    {
      "cell_type": "code",
      "metadata": {
        "colab_type": "code",
        "id": "qZWf98GD06MB",
        "colab": {}
      },
      "source": [
        "NB = MultinomialNB()"
      ],
      "execution_count": 0,
      "outputs": []
    },
    {
      "cell_type": "code",
      "metadata": {
        "colab_type": "code",
        "outputId": "cd65ac42-9c9d-45ff-cbe2-2d87e774bdab",
        "id": "Io8FxF5q06MD",
        "colab": {
          "base_uri": "https://localhost:8080/",
          "height": 105
        }
      },
      "source": [
        "alpha = [0.1,1,10,20,30,50]\n",
        "param_grid = dict(alpha=alpha)\n",
        "grid = GridSearchCV(estimator=NB, param_grid=param_grid, scoring='accuracy', verbose=0, n_jobs=-1, cv=5)\n",
        "result = grid.fit(X_train,y_train)\n",
        "\n",
        "print('Best Score: ', result.best_score_)\n",
        "print('Best Parameters: ', result.best_params_)"
      ],
      "execution_count": 78,
      "outputs": [
        {
          "output_type": "stream",
          "text": [
            "Best Score:  0.3125041264106987\n",
            "Best Parameters:  {'alpha': 10}\n"
          ],
          "name": "stdout"
        },
        {
          "output_type": "stream",
          "text": [
            "/usr/local/lib/python3.6/dist-packages/sklearn/utils/validation.py:760: DataConversionWarning: A column-vector y was passed when a 1d array was expected. Please change the shape of y to (n_samples, ), for example using ravel().\n",
            "  y = column_or_1d(y, warn=True)\n"
          ],
          "name": "stderr"
        }
      ]
    },
    {
      "cell_type": "code",
      "metadata": {
        "colab_type": "code",
        "id": "s4l9Gekf06MI",
        "colab": {}
      },
      "source": [
        "NB = MultinomialNB(alpha=10).fit(X_train, y_train)"
      ],
      "execution_count": 0,
      "outputs": []
    },
    {
      "cell_type": "code",
      "metadata": {
        "colab_type": "code",
        "id": "OzQ4o0mz06MK",
        "colab": {}
      },
      "source": [
        "second_NB_train = NB.score(X_train, y_train)\n",
        "second_NB_test = NB.score(X_test, y_test)"
      ],
      "execution_count": 0,
      "outputs": []
    },
    {
      "cell_type": "code",
      "metadata": {
        "colab_type": "code",
        "outputId": "29133c4c-1a85-4936-8bef-a5e7a57299b9",
        "id": "rahu5wRr06MN",
        "colab": {
          "base_uri": "https://localhost:8080/",
          "height": 34
        }
      },
      "source": [
        "second_NB_train"
      ],
      "execution_count": 81,
      "outputs": [
        {
          "output_type": "execute_result",
          "data": {
            "text/plain": [
              "0.3120245477210254"
            ]
          },
          "metadata": {
            "tags": []
          },
          "execution_count": 81
        }
      ]
    },
    {
      "cell_type": "code",
      "metadata": {
        "colab_type": "code",
        "outputId": "37b8e2c0-9ae7-40e2-c41f-de2d069c137b",
        "id": "iq1d_NTu06MP",
        "colab": {
          "base_uri": "https://localhost:8080/",
          "height": 34
        }
      },
      "source": [
        "second_NB_test"
      ],
      "execution_count": 82,
      "outputs": [
        {
          "output_type": "execute_result",
          "data": {
            "text/plain": [
              "0.31531061227533747"
            ]
          },
          "metadata": {
            "tags": []
          },
          "execution_count": 82
        }
      ]
    },
    {
      "cell_type": "markdown",
      "metadata": {
        "id": "goukpQEd1ORD",
        "colab_type": "text"
      },
      "source": [
        "Third Set"
      ]
    },
    {
      "cell_type": "code",
      "metadata": {
        "colab_type": "code",
        "id": "L__MtM061UGc",
        "colab": {}
      },
      "source": [
        "X_train, X_test, y_train, y_test = train_test_split(third_set, ordinal_lables, test_size = 0.3, random_state = 42)"
      ],
      "execution_count": 0,
      "outputs": []
    },
    {
      "cell_type": "code",
      "metadata": {
        "colab_type": "code",
        "id": "QBrkc_RP1UGf",
        "colab": {}
      },
      "source": [
        "NB = MultinomialNB()"
      ],
      "execution_count": 0,
      "outputs": []
    },
    {
      "cell_type": "code",
      "metadata": {
        "colab_type": "code",
        "outputId": "f7209892-ab43-41b1-d106-e6b03f88cd93",
        "id": "GwCvbaYv1UGi",
        "colab": {
          "base_uri": "https://localhost:8080/",
          "height": 105
        }
      },
      "source": [
        "alpha = [0.1,1,10,20,30,50]\n",
        "param_grid = dict(alpha=alpha)\n",
        "grid = GridSearchCV(estimator=NB, param_grid=param_grid, scoring='accuracy', verbose=0, n_jobs=-1, cv=5)\n",
        "result = grid.fit(X_train,y_train)\n",
        "\n",
        "print('Best Score: ', result.best_score_)\n",
        "print('Best Parameters: ', result.best_params_)"
      ],
      "execution_count": 85,
      "outputs": [
        {
          "output_type": "stream",
          "text": [
            "Best Score:  0.36105634172947776\n",
            "Best Parameters:  {'alpha': 0.1}\n"
          ],
          "name": "stdout"
        },
        {
          "output_type": "stream",
          "text": [
            "/usr/local/lib/python3.6/dist-packages/sklearn/utils/validation.py:760: DataConversionWarning: A column-vector y was passed when a 1d array was expected. Please change the shape of y to (n_samples, ), for example using ravel().\n",
            "  y = column_or_1d(y, warn=True)\n"
          ],
          "name": "stderr"
        }
      ]
    },
    {
      "cell_type": "code",
      "metadata": {
        "colab_type": "code",
        "outputId": "b65e0d9f-ed9a-4259-b41e-0d30a121e202",
        "id": "lZYhJBuD1UGn",
        "colab": {
          "base_uri": "https://localhost:8080/",
          "height": 71
        }
      },
      "source": [
        "NB = MultinomialNB(alpha=0.1).fit(X_train, y_train)"
      ],
      "execution_count": 86,
      "outputs": [
        {
          "output_type": "stream",
          "text": [
            "/usr/local/lib/python3.6/dist-packages/sklearn/utils/validation.py:760: DataConversionWarning: A column-vector y was passed when a 1d array was expected. Please change the shape of y to (n_samples, ), for example using ravel().\n",
            "  y = column_or_1d(y, warn=True)\n"
          ],
          "name": "stderr"
        }
      ]
    },
    {
      "cell_type": "code",
      "metadata": {
        "colab_type": "code",
        "id": "5nEoptDs1UGq",
        "colab": {}
      },
      "source": [
        "third_NB_train = NB.score(X_train, y_train)\n",
        "third_NB_test = NB.score(X_test, y_test)"
      ],
      "execution_count": 0,
      "outputs": []
    },
    {
      "cell_type": "code",
      "metadata": {
        "colab_type": "code",
        "outputId": "fd8b5c78-a1f4-4381-d186-c5a7cb271599",
        "id": "zOlk9HBr1UGt",
        "colab": {
          "base_uri": "https://localhost:8080/",
          "height": 34
        }
      },
      "source": [
        "third_NB_train"
      ],
      "execution_count": 88,
      "outputs": [
        {
          "output_type": "execute_result",
          "data": {
            "text/plain": [
              "0.3641564917215368"
            ]
          },
          "metadata": {
            "tags": []
          },
          "execution_count": 88
        }
      ]
    },
    {
      "cell_type": "code",
      "metadata": {
        "colab_type": "code",
        "outputId": "5c246e2b-7bee-4e41-e62b-f46bed0ab343",
        "id": "igS3HcBn1UGv",
        "colab": {
          "base_uri": "https://localhost:8080/",
          "height": 34
        }
      },
      "source": [
        "third_NB_test"
      ],
      "execution_count": 89,
      "outputs": [
        {
          "output_type": "execute_result",
          "data": {
            "text/plain": [
              "0.36922962189574166"
            ]
          },
          "metadata": {
            "tags": []
          },
          "execution_count": 89
        }
      ]
    },
    {
      "cell_type": "markdown",
      "metadata": {
        "id": "PwvPvi831fVF",
        "colab_type": "text"
      },
      "source": [
        "### 3.6 Random Forest"
      ]
    },
    {
      "cell_type": "markdown",
      "metadata": {
        "id": "GglM8N3v1vq6",
        "colab_type": "text"
      },
      "source": [
        "First Set"
      ]
    },
    {
      "cell_type": "code",
      "metadata": {
        "colab_type": "code",
        "id": "php5dTEv11gI",
        "colab": {}
      },
      "source": [
        "X_train, X_test, y_train, y_test = train_test_split(first_set, ordinal_lables, test_size = 0.3, random_state = 42)"
      ],
      "execution_count": 0,
      "outputs": []
    },
    {
      "cell_type": "code",
      "metadata": {
        "id": "kJtvWbQHQtok",
        "colab_type": "code",
        "colab": {}
      },
      "source": [
        "Forest = RandomForestClassifier()"
      ],
      "execution_count": 0,
      "outputs": []
    },
    {
      "cell_type": "code",
      "metadata": {
        "id": "PVgU1pSSRZV0",
        "colab_type": "code",
        "colab": {
          "base_uri": "https://localhost:8080/",
          "height": 139
        },
        "outputId": "01c8dc53-16c5-4ecb-d355-aae027adc57c"
      },
      "source": [
        "n_estimators = [10,50,100,200]\n",
        "max_depth = [50,100,200,500,1000]\n",
        "param_grid = dict(n_estimators=n_estimators, max_depth=max_depth)\n",
        "grid = GridSearchCV(estimator=Forest, param_grid=param_grid, scoring='accuracy', verbose=0, n_jobs=-1, cv=5)\n",
        "result = grid.fit(X_train,y_train)\n",
        "\n",
        "print('Best Score: ', result.best_score_)\n",
        "print('Best Parameters: ', result.best_params_)"
      ],
      "execution_count": 92,
      "outputs": [
        {
          "output_type": "stream",
          "text": [
            "/usr/local/lib/python3.6/dist-packages/joblib/externals/loky/process_executor.py:706: UserWarning: A worker stopped while some jobs were given to the executor. This can be caused by a too short worker timeout or by a memory leak.\n",
            "  \"timeout or by a memory leak.\", UserWarning\n",
            "/usr/local/lib/python3.6/dist-packages/sklearn/model_selection/_search.py:739: DataConversionWarning: A column-vector y was passed when a 1d array was expected. Please change the shape of y to (n_samples,), for example using ravel().\n",
            "  self.best_estimator_.fit(X, y, **fit_params)\n"
          ],
          "name": "stderr"
        },
        {
          "output_type": "stream",
          "text": [
            "Best Score:  0.824522165088811\n",
            "Best Parameters:  {'max_depth': 200, 'n_estimators': 200}\n"
          ],
          "name": "stdout"
        }
      ]
    },
    {
      "cell_type": "code",
      "metadata": {
        "id": "swwtoOzqZV9m",
        "colab_type": "code",
        "colab": {}
      },
      "source": [
        "Forest = RandomForestClassifier(max_depth=200,n_estimators=200).fit(X_train,y_train)"
      ],
      "execution_count": 0,
      "outputs": []
    },
    {
      "cell_type": "code",
      "metadata": {
        "colab_type": "code",
        "id": "eWO9S6CB3F_t",
        "colab": {}
      },
      "source": [
        "first_RF_train = Forest.score(X_train, y_train)\n",
        "first_RF_test = Forest.score(X_test, y_test)"
      ],
      "execution_count": 0,
      "outputs": []
    },
    {
      "cell_type": "code",
      "metadata": {
        "colab_type": "code",
        "outputId": "c4320afb-1348-4b4b-f0cb-9b4ae3a84fd1",
        "id": "6RzWOUYP3F_v",
        "colab": {
          "base_uri": "https://localhost:8080/",
          "height": 34
        }
      },
      "source": [
        "first_RF_train"
      ],
      "execution_count": 95,
      "outputs": [
        {
          "output_type": "execute_result",
          "data": {
            "text/plain": [
              "0.9796394553474398"
            ]
          },
          "metadata": {
            "tags": []
          },
          "execution_count": 95
        }
      ]
    },
    {
      "cell_type": "code",
      "metadata": {
        "colab_type": "code",
        "outputId": "bb0d1cbc-6051-45c9-91f8-ab9f2f8cb0ad",
        "id": "PCrZacvh3F_y",
        "colab": {
          "base_uri": "https://localhost:8080/",
          "height": 34
        }
      },
      "source": [
        "first_RF_test"
      ],
      "execution_count": 96,
      "outputs": [
        {
          "output_type": "execute_result",
          "data": {
            "text/plain": [
              "0.8194496233872772"
            ]
          },
          "metadata": {
            "tags": []
          },
          "execution_count": 96
        }
      ]
    },
    {
      "cell_type": "markdown",
      "metadata": {
        "id": "V6aW6lph3bJQ",
        "colab_type": "text"
      },
      "source": [
        "Second Set"
      ]
    },
    {
      "cell_type": "code",
      "metadata": {
        "colab_type": "code",
        "id": "sgVYxzUm3f2D",
        "colab": {}
      },
      "source": [
        "X_train, X_test, y_train, y_test = train_test_split(second_set, ordinal_lables, test_size = 0.3, random_state = 42)"
      ],
      "execution_count": 0,
      "outputs": []
    },
    {
      "cell_type": "code",
      "metadata": {
        "colab_type": "code",
        "id": "BMaDjCZ23f2F",
        "colab": {}
      },
      "source": [
        "Forest = RandomForestClassifier()"
      ],
      "execution_count": 0,
      "outputs": []
    },
    {
      "cell_type": "code",
      "metadata": {
        "colab_type": "code",
        "outputId": "1a92c535-6c08-4d12-8b29-56783ef114bc",
        "id": "-bbmeUsK3f2H",
        "colab": {
          "base_uri": "https://localhost:8080/",
          "height": 105
        }
      },
      "source": [
        "n_estimators = [10,50,100,200]\n",
        "max_depth = [50,100,200,500,1000]\n",
        "param_grid = dict(n_estimators=n_estimators, max_depth=max_depth)\n",
        "grid = GridSearchCV(estimator=Forest, param_grid=param_grid, scoring='accuracy', verbose=0, n_jobs=-1, cv=5)\n",
        "result = grid.fit(X_train,y_train)\n",
        "\n",
        "print('Best Score: ', result.best_score_)\n",
        "print('Best Parameters: ', result.best_params_)"
      ],
      "execution_count": 99,
      "outputs": [
        {
          "output_type": "stream",
          "text": [
            "/usr/local/lib/python3.6/dist-packages/sklearn/model_selection/_search.py:739: DataConversionWarning: A column-vector y was passed when a 1d array was expected. Please change the shape of y to (n_samples,), for example using ravel().\n",
            "  self.best_estimator_.fit(X, y, **fit_params)\n"
          ],
          "name": "stderr"
        },
        {
          "output_type": "stream",
          "text": [
            "Best Score:  0.6858661028954058\n",
            "Best Parameters:  {'max_depth': 100, 'n_estimators': 200}\n"
          ],
          "name": "stdout"
        }
      ]
    },
    {
      "cell_type": "code",
      "metadata": {
        "colab_type": "code",
        "id": "l96BWtHJ3f2M",
        "colab": {}
      },
      "source": [
        "Forest = RandomForestClassifier(max_depth=200,n_estimators=200).fit(X_train,y_train)"
      ],
      "execution_count": 0,
      "outputs": []
    },
    {
      "cell_type": "code",
      "metadata": {
        "colab_type": "code",
        "id": "eWOTRoD73f2P",
        "colab": {}
      },
      "source": [
        "second_RF_train = Forest.score(X_train, y_train)\n",
        "second_RF_test = Forest.score(X_test, y_test)"
      ],
      "execution_count": 0,
      "outputs": []
    },
    {
      "cell_type": "code",
      "metadata": {
        "colab_type": "code",
        "outputId": "90d2715f-3586-4b6b-bdb8-24ff1c6ec3ef",
        "id": "DKFkRVNp3f2S",
        "colab": {
          "base_uri": "https://localhost:8080/",
          "height": 34
        }
      },
      "source": [
        "second_RF_train"
      ],
      "execution_count": 102,
      "outputs": [
        {
          "output_type": "execute_result",
          "data": {
            "text/plain": [
              "0.8125359585757208"
            ]
          },
          "metadata": {
            "tags": []
          },
          "execution_count": 102
        }
      ]
    },
    {
      "cell_type": "code",
      "metadata": {
        "colab_type": "code",
        "outputId": "b404724a-ba5d-498d-ccb3-ec54cac3681d",
        "id": "nVcvEDyk3f2V",
        "colab": {
          "base_uri": "https://localhost:8080/",
          "height": 34
        }
      },
      "source": [
        "second_RF_test"
      ],
      "execution_count": 103,
      "outputs": [
        {
          "output_type": "execute_result",
          "data": {
            "text/plain": [
              "0.6747706764113655"
            ]
          },
          "metadata": {
            "tags": []
          },
          "execution_count": 103
        }
      ]
    },
    {
      "cell_type": "markdown",
      "metadata": {
        "id": "MbinFiPi4NW0",
        "colab_type": "text"
      },
      "source": [
        "Third Set"
      ]
    },
    {
      "cell_type": "code",
      "metadata": {
        "colab_type": "code",
        "id": "lQC1urg84SdX",
        "colab": {}
      },
      "source": [
        "X_train, X_test, y_train, y_test = train_test_split(third_set, ordinal_lables, test_size = 0.3, random_state = 42)"
      ],
      "execution_count": 0,
      "outputs": []
    },
    {
      "cell_type": "code",
      "metadata": {
        "colab_type": "code",
        "id": "WdzEiREe4Sdb",
        "colab": {}
      },
      "source": [
        "Forest = RandomForestClassifier()"
      ],
      "execution_count": 0,
      "outputs": []
    },
    {
      "cell_type": "code",
      "metadata": {
        "colab_type": "code",
        "outputId": "5d9d5e21-52bb-45a5-e787-a5edb2eee659",
        "id": "3Ogc5SjJ4Sdd",
        "colab": {
          "base_uri": "https://localhost:8080/",
          "height": 105
        }
      },
      "source": [
        "n_estimators = [10,50,100,200]\n",
        "max_depth = [50,100,200,500,1000]\n",
        "param_grid = dict(n_estimators=n_estimators, max_depth=max_depth)\n",
        "grid = GridSearchCV(estimator=Forest, param_grid=param_grid, scoring='accuracy', verbose=0, n_jobs=-1, cv=5)\n",
        "result = grid.fit(X_train,y_train)\n",
        "\n",
        "print('Best Score: ', result.best_score_)\n",
        "print('Best Parameters: ', result.best_params_)"
      ],
      "execution_count": 106,
      "outputs": [
        {
          "output_type": "stream",
          "text": [
            "/usr/local/lib/python3.6/dist-packages/sklearn/model_selection/_search.py:739: DataConversionWarning: A column-vector y was passed when a 1d array was expected. Please change the shape of y to (n_samples,), for example using ravel().\n",
            "  self.best_estimator_.fit(X, y, **fit_params)\n"
          ],
          "name": "stderr"
        },
        {
          "output_type": "stream",
          "text": [
            "Best Score:  0.7496643580219237\n",
            "Best Parameters:  {'max_depth': 500, 'n_estimators': 200}\n"
          ],
          "name": "stdout"
        }
      ]
    },
    {
      "cell_type": "code",
      "metadata": {
        "colab_type": "code",
        "id": "3ENrgZ9c4Sdg",
        "colab": {}
      },
      "source": [
        "Forest = RandomForestClassifier(max_depth=100,n_estimators=200).fit(X_train,y_train)"
      ],
      "execution_count": 0,
      "outputs": []
    },
    {
      "cell_type": "code",
      "metadata": {
        "colab_type": "code",
        "id": "-Seo2-5s4Sdj",
        "colab": {}
      },
      "source": [
        "third_RF_train = Forest.score(X_train, y_train)\n",
        "third_RF_test = Forest.score(X_test, y_test)"
      ],
      "execution_count": 0,
      "outputs": []
    },
    {
      "cell_type": "code",
      "metadata": {
        "colab_type": "code",
        "outputId": "efcea63d-3e5c-4a40-f85e-6308a1f2da10",
        "id": "QlCujyhj4Sdl",
        "colab": {
          "base_uri": "https://localhost:8080/",
          "height": 34
        }
      },
      "source": [
        "third_RF_train"
      ],
      "execution_count": 109,
      "outputs": [
        {
          "output_type": "execute_result",
          "data": {
            "text/plain": [
              "0.8206865690724285"
            ]
          },
          "metadata": {
            "tags": []
          },
          "execution_count": 109
        }
      ]
    },
    {
      "cell_type": "code",
      "metadata": {
        "colab_type": "code",
        "outputId": "900e8cac-5efa-4cbd-aa6c-21daa90a2009",
        "id": "N7N5eHkH4Sdn",
        "colab": {
          "base_uri": "https://localhost:8080/",
          "height": 34
        }
      },
      "source": [
        "third_RF_test"
      ],
      "execution_count": 110,
      "outputs": [
        {
          "output_type": "execute_result",
          "data": {
            "text/plain": [
              "0.7473338802296965"
            ]
          },
          "metadata": {
            "tags": []
          },
          "execution_count": 110
        }
      ]
    },
    {
      "cell_type": "markdown",
      "metadata": {
        "id": "U2s5e6VP5kVx",
        "colab_type": "text"
      },
      "source": [
        "### 3.7 Multi-Layer Perceptron\n",
        "This algorithm takes way more times to train than others. So we won't do cross validation or fine grid research for this one. We are just going to try some architectures. "
      ]
    },
    {
      "cell_type": "markdown",
      "metadata": {
        "id": "34O2zd4RUndv",
        "colab_type": "text"
      },
      "source": [
        "First Set"
      ]
    },
    {
      "cell_type": "markdown",
      "metadata": {
        "id": "XdzwQcy3VO6B",
        "colab_type": "text"
      },
      "source": [
        "Try 10k neurons, one layer"
      ]
    },
    {
      "cell_type": "code",
      "metadata": {
        "colab_type": "code",
        "id": "mK2344rs6edL",
        "colab": {}
      },
      "source": [
        "X_train, X_test, y_train, y_test = train_test_split(first_set, ordinal_lables, test_size = 0.3, random_state = 42)"
      ],
      "execution_count": 0,
      "outputs": []
    },
    {
      "cell_type": "code",
      "metadata": {
        "id": "23bTRLcW5pvR",
        "colab_type": "code",
        "colab": {}
      },
      "source": [
        "mlp = MLPClassifier(hidden_layer_sizes=(10000,),verbose=100).fit(X_train, y_train)"
      ],
      "execution_count": 0,
      "outputs": []
    },
    {
      "cell_type": "code",
      "metadata": {
        "id": "czG-ewnETsRE",
        "colab_type": "code",
        "colab": {}
      },
      "source": [
        "mlp_10k_train = mlp.score(X_train,y_train)\n",
        "mlp_10k_test = mlp.score(X_test,y_test)"
      ],
      "execution_count": 0,
      "outputs": []
    },
    {
      "cell_type": "code",
      "metadata": {
        "id": "WFQWT6IITz2T",
        "colab_type": "code",
        "colab": {
          "base_uri": "https://localhost:8080/",
          "height": 51
        },
        "outputId": "3445691f-859b-44d5-b546-1f6ddf000a68"
      },
      "source": [
        "print('10k neurons one layer has training accuracy: ',mlp_10k_train)\n",
        "print('10k neurons one layer has testing accuracy: ',mlp_10k_test)"
      ],
      "execution_count": 114,
      "outputs": [
        {
          "output_type": "stream",
          "text": [
            "10k neurons one layer has training accuracy:  0.7836412452854312\n",
            "10k neurons one layer has testing accuracy:  0.7750018644194198\n"
          ],
          "name": "stdout"
        }
      ]
    },
    {
      "cell_type": "markdown",
      "metadata": {
        "id": "2HxVhfOVVTqN",
        "colab_type": "text"
      },
      "source": [
        "Try 5k neurons, 3 layers"
      ]
    },
    {
      "cell_type": "code",
      "metadata": {
        "colab_type": "code",
        "id": "FXQ4iWqrVbQi",
        "colab": {}
      },
      "source": [
        "mlp = MLPClassifier(hidden_layer_sizes=(5000,3),verbose=100).fit(X_train, y_train)"
      ],
      "execution_count": 0,
      "outputs": []
    },
    {
      "cell_type": "code",
      "metadata": {
        "colab_type": "code",
        "id": "Q9nynfpoVbQn",
        "colab": {}
      },
      "source": [
        "mlp_5k_train = mlp.score(X_train,y_train)\n",
        "mlp_5k_test = mlp.score(X_test,y_test)"
      ],
      "execution_count": 0,
      "outputs": []
    },
    {
      "cell_type": "code",
      "metadata": {
        "colab_type": "code",
        "outputId": "b13be27e-1515-4137-e11d-70fcc181ec5a",
        "id": "3uhoxCkGVbQp",
        "colab": {
          "base_uri": "https://localhost:8080/",
          "height": 51
        }
      },
      "source": [
        "print('5k neurons 3 layers has training accuracy: ',mlp_5k_train)\n",
        "print('5k neurons 3 layers has testing accuracy: ',mlp_5k_test)"
      ],
      "execution_count": 117,
      "outputs": [
        {
          "output_type": "stream",
          "text": [
            "5k neurons 3 layers has training accuracy:  0.4485712459246948\n",
            "5k neurons 3 layers has testing accuracy:  0.44492505033932434\n"
          ],
          "name": "stdout"
        }
      ]
    },
    {
      "cell_type": "markdown",
      "metadata": {
        "id": "3bRcyRDwWp7h",
        "colab_type": "text"
      },
      "source": [
        "Try 30k neurons, one layer"
      ]
    },
    {
      "cell_type": "code",
      "metadata": {
        "colab_type": "code",
        "id": "aEB-XrZ8WxM-",
        "colab": {}
      },
      "source": [
        "mlp = MLPClassifier(hidden_layer_sizes=(30000,),verbose=100).fit(X_train, y_train)"
      ],
      "execution_count": 0,
      "outputs": []
    },
    {
      "cell_type": "code",
      "metadata": {
        "colab_type": "code",
        "id": "YmPseUgVWxNE",
        "colab": {}
      },
      "source": [
        "mlp_30k_train = mlp.score(X_train,y_train)\n",
        "mlp_30k_test = mlp.score(X_test,y_test)"
      ],
      "execution_count": 0,
      "outputs": []
    },
    {
      "cell_type": "code",
      "metadata": {
        "colab_type": "code",
        "outputId": "f1d0d303-3d92-49d1-b438-4acd2c359d67",
        "id": "cb9uAofBWxNG",
        "colab": {
          "base_uri": "https://localhost:8080/",
          "height": 51
        }
      },
      "source": [
        "print('30k neurons one layer has training accuracy: ',mlp_30k_train)\n",
        "print('30k neurons one layer has testing accuracy: ',mlp_30k_test)"
      ],
      "execution_count": 120,
      "outputs": [
        {
          "output_type": "stream",
          "text": [
            "30k neurons one layer has training accuracy:  0.8254490826567794\n",
            "30k neurons one layer has testing accuracy:  0.8162428219852338\n"
          ],
          "name": "stdout"
        }
      ]
    },
    {
      "cell_type": "markdown",
      "metadata": {
        "id": "QkkwmMAJZxh5",
        "colab_type": "text"
      },
      "source": [
        "Try 5k neurons, one layer"
      ]
    },
    {
      "cell_type": "code",
      "metadata": {
        "colab_type": "code",
        "id": "Z0bdjnhiaAeJ",
        "colab": {}
      },
      "source": [
        "mlp = MLPClassifier(hidden_layer_sizes=(5000,),verbose=100).fit(X_train, y_train)"
      ],
      "execution_count": 0,
      "outputs": []
    },
    {
      "cell_type": "code",
      "metadata": {
        "colab_type": "code",
        "id": "6q8LKD-JaAeL",
        "colab": {}
      },
      "source": [
        "mlp_5kone_train = mlp.score(X_train,y_train)\n",
        "mlp_5kone_test = mlp.score(X_test,y_test)"
      ],
      "execution_count": 0,
      "outputs": []
    },
    {
      "cell_type": "code",
      "metadata": {
        "colab_type": "code",
        "outputId": "4e5ee4cc-3f77-4c71-dd72-6f228e4fefee",
        "id": "ZWQT8p5SaAeN",
        "colab": {
          "base_uri": "https://localhost:8080/",
          "height": 51
        }
      },
      "source": [
        "print('5k neurons one layer has training accuracy: ',mlp_5kone_train)\n",
        "print('5k neurons one layer has testing accuracy: ',mlp_5kone_test)"
      ],
      "execution_count": 123,
      "outputs": [
        {
          "output_type": "stream",
          "text": [
            "5k neurons one layer has training accuracy:  0.8315860129131241\n",
            "5k neurons one layer has testing accuracy:  0.8193004698336938\n"
          ],
          "name": "stdout"
        }
      ]
    },
    {
      "cell_type": "markdown",
      "metadata": {
        "id": "R5oqM8Hzbam_",
        "colab_type": "text"
      },
      "source": [
        "Try 3k neurons, one layer"
      ]
    },
    {
      "cell_type": "code",
      "metadata": {
        "colab_type": "code",
        "id": "GXudcF2wbgfm",
        "colab": {}
      },
      "source": [
        "mlp = MLPClassifier(hidden_layer_sizes=(3000,),verbose=100).fit(X_train, y_train)"
      ],
      "execution_count": 0,
      "outputs": []
    },
    {
      "cell_type": "code",
      "metadata": {
        "colab_type": "code",
        "id": "SIrWTJ_nbgfq",
        "colab": {}
      },
      "source": [
        "mlp_3k_train = mlp.score(X_train,y_train)\n",
        "mlp_3k_test = mlp.score(X_test,y_test)"
      ],
      "execution_count": 0,
      "outputs": []
    },
    {
      "cell_type": "code",
      "metadata": {
        "colab_type": "code",
        "outputId": "f7e79eff-f756-487a-9a2e-c8f40e1313d1",
        "id": "fwchR8zgbgft",
        "colab": {
          "base_uri": "https://localhost:8080/",
          "height": 51
        }
      },
      "source": [
        "print('3k neurons one layer has training accuracy: ',mlp_3k_train)\n",
        "print('3k neurons one layer has testing accuracy: ',mlp_3k_test)"
      ],
      "execution_count": 126,
      "outputs": [
        {
          "output_type": "stream",
          "text": [
            "3k neurons one layer has training accuracy:  0.8327686505146071\n",
            "3k neurons one layer has testing accuracy:  0.8199716608248192\n"
          ],
          "name": "stdout"
        }
      ]
    },
    {
      "cell_type": "markdown",
      "metadata": {
        "id": "te0DSvNndAdj",
        "colab_type": "text"
      },
      "source": [
        "Try 1k neurons, 5 layers"
      ]
    },
    {
      "cell_type": "code",
      "metadata": {
        "colab_type": "code",
        "id": "2-VdlegqdGQR",
        "colab": {}
      },
      "source": [
        "mlp = MLPClassifier(hidden_layer_sizes=(1000,5),verbose=100).fit(X_train, y_train)"
      ],
      "execution_count": 0,
      "outputs": []
    },
    {
      "cell_type": "code",
      "metadata": {
        "colab_type": "code",
        "id": "2_v8rfrSdGQV",
        "colab": {}
      },
      "source": [
        "mlp_1k_train = mlp.score(X_train,y_train)\n",
        "mlp_1k_test = mlp.score(X_test,y_test)"
      ],
      "execution_count": 0,
      "outputs": []
    },
    {
      "cell_type": "code",
      "metadata": {
        "colab_type": "code",
        "outputId": "b0f24f6e-6c23-435d-e3c8-57829527dc4a",
        "id": "T-lEfGfZdGQX",
        "colab": {
          "base_uri": "https://localhost:8080/",
          "height": 51
        }
      },
      "source": [
        "print('1k neurons 5 layers has training accuracy: ',mlp_1k_train)\n",
        "print('1k neurons 5 layers has testing accuracy: ',mlp_1k_test)"
      ],
      "execution_count": 129,
      "outputs": [
        {
          "output_type": "stream",
          "text": [
            "1k neurons 5 layers has training accuracy:  0.8227002493127916\n",
            "1k neurons 5 layers has testing accuracy:  0.8154970542173168\n"
          ],
          "name": "stdout"
        }
      ]
    },
    {
      "cell_type": "markdown",
      "metadata": {
        "id": "8aynikfydcyt",
        "colab_type": "text"
      },
      "source": [
        "##### Second Set\n",
        "We use the architecture of 3k neurons and one layer for the rest of training, since it has the highest test accuracy for the first set. "
      ]
    },
    {
      "cell_type": "code",
      "metadata": {
        "colab_type": "code",
        "id": "lvE8mk0kd7Me",
        "colab": {}
      },
      "source": [
        "X_train, X_test, y_train, y_test = train_test_split(second_set, ordinal_lables, test_size = 0.3, random_state = 42)"
      ],
      "execution_count": 0,
      "outputs": []
    },
    {
      "cell_type": "code",
      "metadata": {
        "colab_type": "code",
        "id": "wGknNz4Odzl6",
        "colab": {}
      },
      "source": [
        "mlp = MLPClassifier(hidden_layer_sizes=(3000,),verbose=100).fit(X_train, y_train)"
      ],
      "execution_count": 0,
      "outputs": []
    },
    {
      "cell_type": "code",
      "metadata": {
        "colab_type": "code",
        "id": "cKXHrIcAdzl-",
        "colab": {}
      },
      "source": [
        "mlp_second_train = mlp.score(X_train,y_train)\n",
        "mlp_second_test = mlp.score(X_test,y_test)"
      ],
      "execution_count": 0,
      "outputs": []
    },
    {
      "cell_type": "code",
      "metadata": {
        "colab_type": "code",
        "outputId": "76b5abcf-4ae7-4723-d570-b46dc4a5b39c",
        "id": "kPGPM1DXdzl_",
        "colab": {
          "base_uri": "https://localhost:8080/",
          "height": 51
        }
      },
      "source": [
        "print('3k neurons one layer on second set has training accuracy: ',mlp_second_train)\n",
        "print('3k neurons one layer on second set has testing accuracy: ',mlp_second_test)"
      ],
      "execution_count": 142,
      "outputs": [
        {
          "output_type": "stream",
          "text": [
            "3k neurons one layer on second set has training accuracy:  0.7142172217605318\n",
            "3k neurons one layer on second set has testing accuracy:  0.7007233947348795\n"
          ],
          "name": "stdout"
        }
      ]
    },
    {
      "cell_type": "markdown",
      "metadata": {
        "id": "wBHbUFTsfN6y",
        "colab_type": "text"
      },
      "source": [
        "Third Set"
      ]
    },
    {
      "cell_type": "code",
      "metadata": {
        "colab_type": "code",
        "id": "hwylTeVXfUlC",
        "colab": {}
      },
      "source": [
        "X_train, X_test, y_train, y_test = train_test_split(second_set, ordinal_lables, test_size = 0.3, random_state = 42)"
      ],
      "execution_count": 0,
      "outputs": []
    },
    {
      "cell_type": "code",
      "metadata": {
        "colab_type": "code",
        "id": "I_qaJV4VfUlF",
        "colab": {}
      },
      "source": [
        "mlp = MLPClassifier(hidden_layer_sizes=(3000,),verbose=100).fit(X_train, y_train)"
      ],
      "execution_count": 0,
      "outputs": []
    },
    {
      "cell_type": "code",
      "metadata": {
        "colab_type": "code",
        "id": "O_3_7n7dfUlH",
        "colab": {}
      },
      "source": [
        "mlp_third_train = mlp.score(X_train,y_train)\n",
        "mlp_third_test = mlp.score(X_test,y_test)"
      ],
      "execution_count": 0,
      "outputs": []
    },
    {
      "cell_type": "code",
      "metadata": {
        "colab_type": "code",
        "outputId": "c97757af-32f2-4762-a799-1996de856d8c",
        "id": "9rqwAU1XfUlJ",
        "colab": {
          "base_uri": "https://localhost:8080/",
          "height": 51
        }
      },
      "source": [
        "print('3k neurons one layer on third set has training accuracy: ',mlp_third_train)\n",
        "print('3k neurons one layer on third set has testing accuracy: ',mlp_third_test)"
      ],
      "execution_count": 146,
      "outputs": [
        {
          "output_type": "stream",
          "text": [
            "3k neurons one layer on third set has training accuracy:  0.7170939078181935\n",
            "3k neurons one layer on third set has testing accuracy:  0.7037064658065478\n"
          ],
          "name": "stdout"
        }
      ]
    },
    {
      "cell_type": "markdown",
      "metadata": {
        "id": "fzHctR3hMH9F",
        "colab_type": "text"
      },
      "source": [
        "### 3.8 Conclusion"
      ]
    },
    {
      "cell_type": "markdown",
      "metadata": {
        "id": "IhJWNfxjT9yq",
        "colab_type": "text"
      },
      "source": [
        "Plot the results"
      ]
    },
    {
      "cell_type": "code",
      "metadata": {
        "id": "bcuuKiGvMHaY",
        "colab_type": "code",
        "colab": {
          "base_uri": "https://localhost:8080/",
          "height": 606
        },
        "outputId": "92110071-5cef-4480-8d67-855134e87b95"
      },
      "source": [
        "# set width of bar\n",
        "barWidth = 0.1\n",
        " \n",
        "# set height of bar\n",
        "bars1 = [first_lgs_train, first_NB_train, first_RF_train, mlp_3k_train]\n",
        "bars2 = [first_lgs_test, first_NB_test, first_RF_test, mlp_3k_test]\n",
        "bars3 = [second_lgs_train, second_NB_train, second_RF_train, mlp_second_train]\n",
        "bars4 = [second_lgs_test, second_NB_test, second_RF_test, mlp_second_test]\n",
        "bars5 = [third_lgs_train, third_NB_train, third_RF_train, mlp_third_train]\n",
        "bars6 = [third_lgs_test, third_NB_test, third_RF_test, mlp_third_test]\n",
        " \n",
        "# Set position of bar on X axis\n",
        "r1 = np.arange(len(bars1))\n",
        "r2 = [x + barWidth for x in r1]\n",
        "r3 = [x + barWidth for x in r2]\n",
        "r4 = [x + barWidth for x in r3]\n",
        "r5 = [x + barWidth for x in r4]\n",
        "r6 = [x + barWidth for x in r5]\n",
        " \n",
        "# Make the plot\n",
        "plt.figure(figsize=(20,10))\n",
        "plt.bar(r1, bars1, color='b', width=barWidth, edgecolor='white', label='first set train accuracy')\n",
        "plt.bar(r2, bars2, color='tab:blue', width=barWidth, edgecolor='white', label='first set test accuracy')\n",
        "plt.bar(r3, bars3, color='g', width=barWidth, edgecolor='white', label='second set train accuracy')\n",
        "plt.bar(r4, bars4, color='tab:green', width=barWidth, edgecolor='white', label='second set test accuracy')\n",
        "plt.bar(r5, bars5, color='m', width=barWidth, edgecolor='white', label='third set train accuracy')\n",
        "plt.bar(r6, bars6, color='tab:purple', width=barWidth, edgecolor='white', label='third set test accuracy')\n",
        " \n",
        "# Add xticks on the middle of the group bars\n",
        "plt.xlabel('group', fontweight='bold')\n",
        "plt.xticks([r + barWidth*2.5 for r in range(len(bars1))], ['Logistic Regression', 'Naive Bayes', 'Random Forest', 'Multi-Layer Perceptron'])\n",
        "plt.ylabel('accuracy')\n",
        "\n",
        "# Create legend & Show graphic\n",
        "plt.legend()\n",
        "plt.show()\n"
      ],
      "execution_count": 183,
      "outputs": [
        {
          "output_type": "display_data",
          "data": {
            "image/png": "[encoded data removed]",
            "text/plain": [
              "<Figure size 1440x720 with 1 Axes>"
            ]
          },
          "metadata": {
            "tags": [],
            "needs_background": "light"
          }
        }
      ]
    },
    {
      "cell_type": "markdown",
      "metadata": {
        "id": "FDCP3rpwcd0n",
        "colab_type": "text"
      },
      "source": [
        "From the above plot, we can see that Naive Bayers is definitely not a good learning algorithm for this task. For the rest of the algorithms, multilayer perceptron performs better than logistic regression in general. Training on all the features (first set) can reach a better accuracy than trainig on subsets of the features (second and third set). After tuning the hyperparameters, random forest and multilayer perceptron on first set achieve the best accuracy (around 0.82). The random forest algorithm has overfitting issues. From the plot. we can see its training accuracy is higher than its testing accuracy for all sets. The training accuracy of random forest on first set can reach 0.98. If we can fine-tune the hyperparameters of random forest by using more folds on cross validation or more precise gird search, we could possibly increase the test accuracy. Multipayer perceptron does not have any overfitting issues since its train and test accuracy are similar. If we could have greater computing power to do hyperparameter tuning on neural network to find out the optimal architecture and learning rate, the performance could be better. In general, due to the limits of time and computing power, the hyperparameter tuning processes are not precise enough. "
      ]
    },
    {
      "cell_type": "markdown",
      "metadata": {
        "id": "Xz80IDynq89K",
        "colab_type": "text"
      },
      "source": [
        "## Part 4: Sentiment Analysis"
      ]
    },
    {
      "cell_type": "markdown",
      "metadata": {
        "id": "N7quqnk2iDWj",
        "colab_type": "text"
      },
      "source": [
        "### 4.1 Compute Vader on Titles"
      ]
    },
    {
      "cell_type": "code",
      "metadata": {
        "id": "NZSPAnbqq89L",
        "colab_type": "code",
        "colab": {}
      },
      "source": [
        "def evalSentences(sentences, to_df=False, columns=[]):\n",
        "    #Instantiate an instance to access SentimentIntensityAnalyzer class\n",
        "    sid = SentimentIntensityAnalyzer()\n",
        "    pdlist = []\n",
        "    if to_df:\n",
        "        for sentence in tqdm(sentences):\n",
        "            ss = sid.polarity_scores(sentence)\n",
        "            pdlist.append([sentence]+[ss['compound']])\n",
        "        reviewDf = pd.DataFrame(pdlist)\n",
        "        reviewDf.columns = columns\n",
        "        return reviewDf\n",
        "    \n",
        "    else:\n",
        "        for sentence in tqdm(sentences):\n",
        "            print(sentence)\n",
        "            ss = sid.polarity_scores(sentence)\n",
        "            for k in sorted(ss):\n",
        "                print('{0}: {1}, '.format(k, ss[k]), end='')\n",
        "            print()"
      ],
      "execution_count": 0,
      "outputs": []
    },
    {
      "cell_type": "code",
      "metadata": {
        "id": "xVgPn2QchP9C",
        "colab_type": "code",
        "colab": {}
      },
      "source": [
        "titles = data.title.values"
      ],
      "execution_count": 0,
      "outputs": []
    },
    {
      "cell_type": "code",
      "metadata": {
        "id": "qrGaECrDhSv0",
        "colab_type": "code",
        "colab": {
          "base_uri": "https://localhost:8080/",
          "height": 34
        },
        "outputId": "78601882-fea1-4e28-c637-5444a8129265"
      },
      "source": [
        "titlesDF = evalSentences(titles, to_df=True, columns = ['title','vader'])"
      ],
      "execution_count": 194,
      "outputs": [
        {
          "output_type": "stream",
          "text": [
            "100%|██████████| 44695/44695 [00:06<00:00, 7311.67it/s]\n"
          ],
          "name": "stderr"
        }
      ]
    },
    {
      "cell_type": "code",
      "metadata": {
        "id": "Nf63KMdghWzW",
        "colab_type": "code",
        "colab": {
          "base_uri": "https://localhost:8080/",
          "height": 204
        },
        "outputId": "5e8261e7-486b-4f48-bd8f-10cd2959bcef"
      },
      "source": [
        "titlesDF.head()"
      ],
      "execution_count": 196,
      "outputs": [
        {
          "output_type": "execute_result",
          "data": {
            "text/html": [
              "<div>\n",
              "<style scoped>\n",
              "    .dataframe tbody tr th:only-of-type {\n",
              "        vertical-align: middle;\n",
              "    }\n",
              "\n",
              "    .dataframe tbody tr th {\n",
              "        vertical-align: top;\n",
              "    }\n",
              "\n",
              "    .dataframe thead th {\n",
              "        text-align: right;\n",
              "    }\n",
              "</style>\n",
              "<table border=\"1\" class=\"dataframe\">\n",
              "  <thead>\n",
              "    <tr style=\"text-align: right;\">\n",
              "      <th></th>\n",
              "      <th>title</th>\n",
              "      <th>vader</th>\n",
              "    </tr>\n",
              "  </thead>\n",
              "  <tbody>\n",
              "    <tr>\n",
              "      <th>0</th>\n",
              "      <td>Is the winter transfer window officially open?</td>\n",
              "      <td>0.0000</td>\n",
              "    </tr>\n",
              "    <tr>\n",
              "      <th>1</th>\n",
              "      <td>When Krispy Kream is life.</td>\n",
              "      <td>0.0000</td>\n",
              "    </tr>\n",
              "    <tr>\n",
              "      <th>2</th>\n",
              "      <td>They started playing the wii sports theme at t...</td>\n",
              "      <td>0.2023</td>\n",
              "    </tr>\n",
              "    <tr>\n",
              "      <th>3</th>\n",
              "      <td>No car, no problem</td>\n",
              "      <td>-0.7269</td>\n",
              "    </tr>\n",
              "    <tr>\n",
              "      <th>4</th>\n",
              "      <td>Breaking News</td>\n",
              "      <td>0.0000</td>\n",
              "    </tr>\n",
              "  </tbody>\n",
              "</table>\n",
              "</div>"
            ],
            "text/plain": [
              "                                               title   vader\n",
              "0     Is the winter transfer window officially open?  0.0000\n",
              "1                         When Krispy Kream is life.  0.0000\n",
              "2  They started playing the wii sports theme at t...  0.2023\n",
              "3                                 No car, no problem -0.7269\n",
              "4                                      Breaking News  0.0000"
            ]
          },
          "metadata": {
            "tags": []
          },
          "execution_count": 196
        }
      ]
    },
    {
      "cell_type": "code",
      "metadata": {
        "id": "PFb_7KGEiNEB",
        "colab_type": "code",
        "colab": {}
      },
      "source": [
        "vader = titlesDF.vader.values"
      ],
      "execution_count": 0,
      "outputs": []
    },
    {
      "cell_type": "code",
      "metadata": {
        "id": "7Y-cE1_SiSjm",
        "colab_type": "code",
        "colab": {}
      },
      "source": [
        "data['vader'] = vader"
      ],
      "execution_count": 0,
      "outputs": []
    },
    {
      "cell_type": "markdown",
      "metadata": {
        "id": "kJ5cO_U-iwE8",
        "colab_type": "text"
      },
      "source": [
        "### 4.2 See vader of each Subreddit"
      ]
    },
    {
      "cell_type": "code",
      "metadata": {
        "id": "D6_1KTrKiWD-",
        "colab_type": "code",
        "colab": {}
      },
      "source": [
        "soccer_vader = data.loc[data.subreddit=='soccer'].vader.values\n",
        "funny_vader = data.loc[data.subreddit=='funny'].vader.values\n",
        "WTF_vader = data.loc[data.subreddit=='WTF'].vader.values\n",
        "Android_vader = data.loc[data.subreddit=='Android'].vader.values"
      ],
      "execution_count": 0,
      "outputs": []
    },
    {
      "cell_type": "code",
      "metadata": {
        "id": "b9r-eOQ4lYD8",
        "colab_type": "code",
        "colab": {
          "base_uri": "https://localhost:8080/",
          "height": 34
        },
        "outputId": "b7f74892-0c03-4128-f9a3-3bef35530b20"
      },
      "source": [
        "len(WTF_vader)"
      ],
      "execution_count": 213,
      "outputs": [
        {
          "output_type": "execute_result",
          "data": {
            "text/plain": [
              "4939"
            ]
          },
          "metadata": {
            "tags": []
          },
          "execution_count": 213
        }
      ]
    },
    {
      "cell_type": "code",
      "metadata": {
        "id": "3f4ETheDi-yb",
        "colab_type": "code",
        "colab": {
          "base_uri": "https://localhost:8080/",
          "height": 879
        },
        "outputId": "3703fd7c-836c-45a3-c168-c4ebcf409e99"
      },
      "source": [
        "f, axes = plt.subplots(2, 2, figsize=(15, 15), sharex=True, sharey=True)\n",
        "sns.distplot( soccer_vader , color=\"skyblue\", ax=axes[0, 0])\n",
        "sns.distplot( funny_vader , color=\"olive\", ax=axes[0, 1])\n",
        "sns.distplot( WTF_vader , color=\"gold\", ax=axes[1, 0])\n",
        "sns.distplot( Android_vader , color=\"teal\", ax=axes[1, 1])\n",
        "axes[0,0].title.set_text('soccer')\n",
        "axes[0,1].title.set_text('funny')\n",
        "axes[1,0].title.set_text('WTF')\n",
        "axes[1,1].title.set_text('Android')\n",
        "\n",
        "\n"
      ],
      "execution_count": 219,
      "outputs": [
        {
          "output_type": "display_data",
          "data": {
            "image/png": "[encoded data removed]",
            "text/plain": [
              "<Figure size 1080x1080 with 4 Axes>"
            ]
          },
          "metadata": {
            "tags": [],
            "needs_background": "light"
          }
        }
      ]
    },
    {
      "cell_type": "markdown",
      "metadata": {
        "id": "ThRJtn6qnR0w",
        "colab_type": "text"
      },
      "source": [
        "For all subreddits, most of the posts have zero vader. For funny and Android and soccer, positive sentiments are slightly more than negative sentiments, and vise versa for WTF. Funny and WTF tend to have more zero vader posts. "
      ]
    },
    {
      "cell_type": "markdown",
      "metadata": {
        "id": "cUdWNCuvoH4V",
        "colab_type": "text"
      },
      "source": [
        "### 4.3 Define Clear Positive and Negative\n",
        "From the above plot, we choose 0.5 as the threshold. Since most of the posts have zero vader, having |vader| > 0.5 is large enough differentiate the sentiments. Also, choosing 0.5 will remain enough data points. If we choose 0.75, only a few data points would be remained. "
      ]
    },
    {
      "cell_type": "code",
      "metadata": {
        "id": "iEesDnY8nyfj",
        "colab_type": "code",
        "colab": {}
      },
      "source": [
        "sentiment = []\n",
        "for v in vader:\n",
        "  if v > 0.5:\n",
        "    sentiment.append('positive')\n",
        "  elif v < -0.5:\n",
        "    sentiment.append('negative')\n",
        "  else:\n",
        "    sentiment.append('neutral')"
      ],
      "execution_count": 0,
      "outputs": []
    },
    {
      "cell_type": "code",
      "metadata": {
        "id": "_cihn90rkLUc",
        "colab_type": "code",
        "colab": {}
      },
      "source": [
        "data['sentiment'] = sentiment"
      ],
      "execution_count": 0,
      "outputs": []
    },
    {
      "cell_type": "code",
      "metadata": {
        "id": "B2Dyy4Axph1Q",
        "colab_type": "code",
        "colab": {}
      },
      "source": [
        "clear = data.loc[data.sentiment!='neutral']"
      ],
      "execution_count": 0,
      "outputs": []
    },
    {
      "cell_type": "markdown",
      "metadata": {
        "id": "3kRFC-Y9q0lA",
        "colab_type": "text"
      },
      "source": [
        "### 4.4 Get TopK \n",
        "We find the top words by term frequency. If a term frequently occurs in positive/negative posts, then it means this term are often used to describe the sentiments. "
      ]
    },
    {
      "cell_type": "code",
      "metadata": {
        "id": "PIbIVATVvXd5",
        "colab_type": "code",
        "colab": {}
      },
      "source": [
        "# clean the title column\n",
        "def clean(text):\n",
        "  stop = set(stopwords.words('english'))\n",
        "  text.replace('$', '')\n",
        "  text.replace('*', '')\n",
        "  text = text.lower()\n",
        "  text = re.sub(r'\\S+@\\S+','',text)\n",
        "  test = re.sub(r'\\s','',text)\n",
        "  text = re.sub(r'\\swww\\S+','',text)\n",
        "  text = re.sub(r'<.+?>+',' ',text)\n",
        "  text = re.sub(r'[<][a].+','',text)\n",
        "  text = re.sub(r'[^a-zA-Z ]','',text)\n",
        "  text = re.sub(r'\\b\\w\\b',' ',text)\n",
        "  text = re.sub(r'amp','',text)\n",
        "  text = (' ').join([word for word in text.split() if word not in stop])\n",
        "  return text"
      ],
      "execution_count": 0,
      "outputs": []
    },
    {
      "cell_type": "code",
      "metadata": {
        "id": "loE8NpT6t739",
        "colab_type": "code",
        "colab": {}
      },
      "source": [
        "t = clear.title.values"
      ],
      "execution_count": 0,
      "outputs": []
    },
    {
      "cell_type": "code",
      "metadata": {
        "id": "J3oNtPqOucbz",
        "colab_type": "code",
        "colab": {}
      },
      "source": [
        "for i in range (len(t)):\n",
        "  t[i] = clean(t[i])"
      ],
      "execution_count": 0,
      "outputs": []
    },
    {
      "cell_type": "code",
      "metadata": {
        "id": "fPso5f5Yussn",
        "colab_type": "code",
        "colab": {
          "base_uri": "https://localhost:8080/",
          "height": 323
        },
        "outputId": "4ccb89bd-f707-46f9-f4dc-cd4956c70902"
      },
      "source": [
        "clear.head()"
      ],
      "execution_count": 269,
      "outputs": [
        {
          "output_type": "execute_result",
          "data": {
            "text/html": [
              "<div>\n",
              "<style scoped>\n",
              "    .dataframe tbody tr th:only-of-type {\n",
              "        vertical-align: middle;\n",
              "    }\n",
              "\n",
              "    .dataframe tbody tr th {\n",
              "        vertical-align: top;\n",
              "    }\n",
              "\n",
              "    .dataframe thead th {\n",
              "        text-align: right;\n",
              "    }\n",
              "</style>\n",
              "<table border=\"1\" class=\"dataframe\">\n",
              "  <thead>\n",
              "    <tr style=\"text-align: right;\">\n",
              "      <th></th>\n",
              "      <th>index</th>\n",
              "      <th>id</th>\n",
              "      <th>author</th>\n",
              "      <th>date</th>\n",
              "      <th>subreddit</th>\n",
              "      <th>title</th>\n",
              "      <th>num_comments</th>\n",
              "      <th>score</th>\n",
              "      <th>selftext</th>\n",
              "      <th>url</th>\n",
              "      <th>form</th>\n",
              "      <th>length</th>\n",
              "      <th>vader</th>\n",
              "      <th>sentiment</th>\n",
              "    </tr>\n",
              "  </thead>\n",
              "  <tbody>\n",
              "    <tr>\n",
              "      <th>3</th>\n",
              "      <td>47</td>\n",
              "      <td>abcyee</td>\n",
              "      <td>itsahardg</td>\n",
              "      <td>1</td>\n",
              "      <td>funny</td>\n",
              "      <td>car problem</td>\n",
              "      <td>7</td>\n",
              "      <td>0</td>\n",
              "      <td></td>\n",
              "      <td>https://v.redd.it/cmdi8cx9ep721</td>\n",
              "      <td>video</td>\n",
              "      <td>4</td>\n",
              "      <td>-0.7269</td>\n",
              "      <td>negative</td>\n",
              "    </tr>\n",
              "    <tr>\n",
              "      <th>5</th>\n",
              "      <td>61</td>\n",
              "      <td>abczrm</td>\n",
              "      <td>deathbygamez</td>\n",
              "      <td>1</td>\n",
              "      <td>funny</td>\n",
              "      <td>live brighton recently posted cats hanover fac...</td>\n",
              "      <td>443</td>\n",
              "      <td>31402</td>\n",
              "      <td></td>\n",
              "      <td>https://i.redd.it/ghitzxhcfp721.jpg</td>\n",
              "      <td>image</td>\n",
              "      <td>41</td>\n",
              "      <td>0.5766</td>\n",
              "      <td>positive</td>\n",
              "    </tr>\n",
              "    <tr>\n",
              "      <th>8</th>\n",
              "      <td>68</td>\n",
              "      <td>abd018</td>\n",
              "      <td>SourSquidSalad</td>\n",
              "      <td>1</td>\n",
              "      <td>WTF</td>\n",
              "      <td>sulfur hexafluoride certified wtf</td>\n",
              "      <td>12</td>\n",
              "      <td>16</td>\n",
              "      <td></td>\n",
              "      <td>https://v.redd.it/29z073bcfp721</td>\n",
              "      <td>video</td>\n",
              "      <td>5</td>\n",
              "      <td>-0.6739</td>\n",
              "      <td>negative</td>\n",
              "    </tr>\n",
              "    <tr>\n",
              "      <th>13</th>\n",
              "      <td>101</td>\n",
              "      <td>abd2hv</td>\n",
              "      <td>Gordalini</td>\n",
              "      <td>1</td>\n",
              "      <td>soccer</td>\n",
              "      <td>neymar calls messi ugly instagram confirming t...</td>\n",
              "      <td>2</td>\n",
              "      <td>0</td>\n",
              "      <td></td>\n",
              "      <td>https://i.redd.it/trmxb1osgp721.png</td>\n",
              "      <td>image</td>\n",
              "      <td>11</td>\n",
              "      <td>-0.5106</td>\n",
              "      <td>negative</td>\n",
              "    </tr>\n",
              "    <tr>\n",
              "      <th>15</th>\n",
              "      <td>110</td>\n",
              "      <td>abd34l</td>\n",
              "      <td>[deleted]</td>\n",
              "      <td>1</td>\n",
              "      <td>funny</td>\n",
              "      <td>something tells dog doesnt like new vitamin</td>\n",
              "      <td>8</td>\n",
              "      <td>6</td>\n",
              "      <td>[deleted]</td>\n",
              "      <td>https://i.redd.it/qtsv1zt5hp721.jpg</td>\n",
              "      <td>image</td>\n",
              "      <td>10</td>\n",
              "      <td>0.5719</td>\n",
              "      <td>positive</td>\n",
              "    </tr>\n",
              "  </tbody>\n",
              "</table>\n",
              "</div>"
            ],
            "text/plain": [
              "    index      id          author  date  ...   form length   vader  sentiment\n",
              "3      47  abcyee       itsahardg     1  ...  video      4 -0.7269   negative\n",
              "5      61  abczrm    deathbygamez     1  ...  image     41  0.5766   positive\n",
              "8      68  abd018  SourSquidSalad     1  ...  video      5 -0.6739   negative\n",
              "13    101  abd2hv       Gordalini     1  ...  image     11 -0.5106   negative\n",
              "15    110  abd34l       [deleted]     1  ...  image     10  0.5719   positive\n",
              "\n",
              "[5 rows x 14 columns]"
            ]
          },
          "metadata": {
            "tags": []
          },
          "execution_count": 269
        }
      ]
    },
    {
      "cell_type": "code",
      "metadata": {
        "id": "96HwRqDZywph",
        "colab_type": "code",
        "colab": {}
      },
      "source": [
        "def getTopK (df,label,k):\n",
        "    reviews = df.loc[df.sentiment==label].title.values\n",
        "    stop = set(stopwords.words('english'))\n",
        "    counter = Counter()\n",
        "    tokenizer = tokenize.RegexpTokenizer(r'\\w+')\n",
        "    lemmatizer = WordNetLemmatizer() \n",
        "    # stemer=nltk.stem.porter.PorterStemmer()\n",
        "    for review in reviews:\n",
        "        words = [word for word in tokenizer.tokenize(review) if word not in stop and len(word)>2]\n",
        "        lemmatizer = WordNetLemmatizer() \n",
        "        words = [lemmatizer.lemmatize(token,'v') for token in tokenizer.tokenize(review)]\n",
        "        words = [lemmatizer.lemmatize(token,'n') for token in tokenizer.tokenize(review)]\n",
        "        counter.update(words)\n",
        "    topk = counter.most_common(k)\n",
        "    return topk"
      ],
      "execution_count": 0,
      "outputs": []
    },
    {
      "cell_type": "code",
      "metadata": {
        "id": "_d5yg7OX1fsf",
        "colab_type": "code",
        "colab": {}
      },
      "source": [
        "topk_pos_soccer = getTopK(clear.loc[clear.subreddit=='soccer'],'positive',10)\n",
        "topk_neg_soccer = getTopK(clear.loc[clear.subreddit=='soccer'],'negative',10)\n",
        "topk_pos_funny = getTopK(clear.loc[clear.subreddit=='funny'],'positive',10)\n",
        "topk_neg_funny = getTopK(clear.loc[clear.subreddit=='funny'],'negative',10)\n",
        "topk_pos_WTF = getTopK(clear.loc[clear.subreddit=='WTF'],'positive',10)\n",
        "topk_neg_WTF = getTopK(clear.loc[clear.subreddit=='WTF'],'negative',10)\n",
        "topk_pos_Android = getTopK(clear.loc[clear.subreddit=='Android'],'positive',10)\n",
        "topk_neg_Android = getTopK(clear.loc[clear.subreddit=='Android'],'negative',10)"
      ],
      "execution_count": 0,
      "outputs": []
    },
    {
      "cell_type": "code",
      "metadata": {
        "id": "OvGGpf6xwp9U",
        "colab_type": "code",
        "colab": {}
      },
      "source": [
        "mat = [topk_pos_soccer, topk_pos_funny, topk_pos_WTF, topk_pos_Android, topk_neg_soccer, topk_neg_funny, topk_neg_WTF, topk_neg_Android]"
      ],
      "execution_count": 0,
      "outputs": []
    },
    {
      "cell_type": "code",
      "metadata": {
        "id": "XiOWJpGCy0I5",
        "colab_type": "code",
        "colab": {}
      },
      "source": [
        "columns = ['soccer positive','funny positive', 'WTF positive', 'Android positive', 'soccer negative','funny negative', 'WTF negative', 'Android negative']"
      ],
      "execution_count": 0,
      "outputs": []
    },
    {
      "cell_type": "code",
      "metadata": {
        "id": "wB_4vzz8xOrx",
        "colab_type": "code",
        "colab": {}
      },
      "source": [
        "rank = pd.DataFrame(data=map(list, zip(*mat)), columns=columns, index=range(1,11))"
      ],
      "execution_count": 0,
      "outputs": []
    },
    {
      "cell_type": "code",
      "metadata": {
        "id": "cYyK_fzwxPDz",
        "colab_type": "code",
        "colab": {
          "base_uri": "https://localhost:8080/",
          "height": 359
        },
        "outputId": "f1d5806e-acdb-4f31-89c7-9645378cd125"
      },
      "source": [
        "rank"
      ],
      "execution_count": 329,
      "outputs": [
        {
          "output_type": "execute_result",
          "data": {
            "text/html": [
              "<div>\n",
              "<style scoped>\n",
              "    .dataframe tbody tr th:only-of-type {\n",
              "        vertical-align: middle;\n",
              "    }\n",
              "\n",
              "    .dataframe tbody tr th {\n",
              "        vertical-align: top;\n",
              "    }\n",
              "\n",
              "    .dataframe thead th {\n",
              "        text-align: right;\n",
              "    }\n",
              "</style>\n",
              "<table border=\"1\" class=\"dataframe\">\n",
              "  <thead>\n",
              "    <tr style=\"text-align: right;\">\n",
              "      <th></th>\n",
              "      <th>soccer positive</th>\n",
              "      <th>funny positive</th>\n",
              "      <th>WTF positive</th>\n",
              "      <th>Android positive</th>\n",
              "      <th>soccer negative</th>\n",
              "      <th>funny negative</th>\n",
              "      <th>WTF negative</th>\n",
              "      <th>Android negative</th>\n",
              "    </tr>\n",
              "  </thead>\n",
              "  <tbody>\n",
              "    <tr>\n",
              "      <th>1</th>\n",
              "      <td>(best, 258)</td>\n",
              "      <td>(best, 196)</td>\n",
              "      <td>(friend, 22)</td>\n",
              "      <td>(android, 177)</td>\n",
              "      <td>(player, 79)</td>\n",
              "      <td>(shit, 99)</td>\n",
              "      <td>(wtf, 200)</td>\n",
              "      <td>(android, 40)</td>\n",
              "    </tr>\n",
              "    <tr>\n",
              "      <th>2</th>\n",
              "      <td>(league, 254)</td>\n",
              "      <td>(love, 152)</td>\n",
              "      <td>(best, 21)</td>\n",
              "      <td>(best, 167)</td>\n",
              "      <td>(football, 66)</td>\n",
              "      <td>(fuck, 62)</td>\n",
              "      <td>(fuck, 47)</td>\n",
              "      <td>(phone, 30)</td>\n",
              "    </tr>\n",
              "    <tr>\n",
              "      <th>3</th>\n",
              "      <td>(win, 250)</td>\n",
              "      <td>(like, 137)</td>\n",
              "      <td>(like, 19)</td>\n",
              "      <td>(free, 96)</td>\n",
              "      <td>(game, 62)</td>\n",
              "      <td>(hell, 54)</td>\n",
              "      <td>(man, 37)</td>\n",
              "      <td>(google, 28)</td>\n",
              "    </tr>\n",
              "    <tr>\n",
              "      <th>4</th>\n",
              "      <td>(club, 222)</td>\n",
              "      <td>(friend, 111)</td>\n",
              "      <td>(love, 19)</td>\n",
              "      <td>(app, 81)</td>\n",
              "      <td>(fan, 58)</td>\n",
              "      <td>(bad, 49)</td>\n",
              "      <td>(dead, 32)</td>\n",
              "      <td>(problem, 15)</td>\n",
              "    </tr>\n",
              "    <tr>\n",
              "      <th>5</th>\n",
              "      <td>(player, 218)</td>\n",
              "      <td>(great, 86)</td>\n",
              "      <td>(look, 13)</td>\n",
              "      <td>(phone, 73)</td>\n",
              "      <td>(chelsea, 51)</td>\n",
              "      <td>(one, 36)</td>\n",
              "      <td>(shit, 25)</td>\n",
              "      <td>(app, 15)</td>\n",
              "    </tr>\n",
              "    <tr>\n",
              "      <th>6</th>\n",
              "      <td>(united, 181)</td>\n",
              "      <td>(good, 75)</td>\n",
              "      <td>(free, 12)</td>\n",
              "      <td>(apps, 59)</td>\n",
              "      <td>(penalty, 46)</td>\n",
              "      <td>(hate, 35)</td>\n",
              "      <td>(dog, 22)</td>\n",
              "      <td>(huawei, 13)</td>\n",
              "    </tr>\n",
              "    <tr>\n",
              "      <th>7</th>\n",
              "      <td>(goal, 163)</td>\n",
              "      <td>(ever, 69)</td>\n",
              "      <td>(great, 11)</td>\n",
              "      <td>(google, 47)</td>\n",
              "      <td>(club, 45)</td>\n",
              "      <td>(as, 33)</td>\n",
              "      <td>(kill, 20)</td>\n",
              "      <td>(kill, 11)</td>\n",
              "    </tr>\n",
              "    <tr>\n",
              "      <th>8</th>\n",
              "      <td>(team, 157)</td>\n",
              "      <td>(happy, 61)</td>\n",
              "      <td>(year, 11)</td>\n",
              "      <td>(help, 43)</td>\n",
              "      <td>(police, 35)</td>\n",
              "      <td>(wtf, 33)</td>\n",
              "      <td>(nsfw, 20)</td>\n",
              "      <td>(user, 10)</td>\n",
              "    </tr>\n",
              "    <tr>\n",
              "      <th>9</th>\n",
              "      <td>(year, 152)</td>\n",
              "      <td>(im, 54)</td>\n",
              "      <td>(happy, 11)</td>\n",
              "      <td>(please, 39)</td>\n",
              "      <td>(year, 34)</td>\n",
              "      <td>(im, 30)</td>\n",
              "      <td>(back, 19)</td>\n",
              "      <td>(pixel, 9)</td>\n",
              "    </tr>\n",
              "    <tr>\n",
              "      <th>10</th>\n",
              "      <td>(cup, 143)</td>\n",
              "      <td>(fun, 52)</td>\n",
              "      <td>(fun, 10)</td>\n",
              "      <td>(play, 34)</td>\n",
              "      <td>(injury, 34)</td>\n",
              "      <td>(worst, 27)</td>\n",
              "      <td>(death, 18)</td>\n",
              "      <td>(bad, 9)</td>\n",
              "    </tr>\n",
              "  </tbody>\n",
              "</table>\n",
              "</div>"
            ],
            "text/plain": [
              "   soccer positive funny positive  ... WTF negative Android negative\n",
              "1      (best, 258)    (best, 196)  ...   (wtf, 200)    (android, 40)\n",
              "2    (league, 254)    (love, 152)  ...   (fuck, 47)      (phone, 30)\n",
              "3       (win, 250)    (like, 137)  ...    (man, 37)     (google, 28)\n",
              "4      (club, 222)  (friend, 111)  ...   (dead, 32)    (problem, 15)\n",
              "5    (player, 218)    (great, 86)  ...   (shit, 25)        (app, 15)\n",
              "6    (united, 181)     (good, 75)  ...    (dog, 22)     (huawei, 13)\n",
              "7      (goal, 163)     (ever, 69)  ...   (kill, 20)       (kill, 11)\n",
              "8      (team, 157)    (happy, 61)  ...   (nsfw, 20)       (user, 10)\n",
              "9      (year, 152)       (im, 54)  ...   (back, 19)       (pixel, 9)\n",
              "10      (cup, 143)      (fun, 52)  ...  (death, 18)         (bad, 9)\n",
              "\n",
              "[10 rows x 8 columns]"
            ]
          },
          "metadata": {
            "tags": []
          },
          "execution_count": 329
        }
      ]
    },
    {
      "cell_type": "markdown",
      "metadata": {
        "id": "be_VlRHE58bF",
        "colab_type": "text"
      },
      "source": [
        "For positive posts, \"best\" ranked top 1 in soccer and funny and top 2 in WTF and Android. The term \"best\" is universally used for describing positive sentiments. Funny and WTF subreddits have a lot of top words in common, such as \"like\", \"love\" and \"happy\". These two subreddits are not related to specific topics. In contrast, soccer and Android have top words related to their topic specificly, such as \"league\", \"app\" and etc. The negative posts also have the same logic. Funny and WTF share similar top words such as \"shit\", \"wtf\", \"fuck\" and etc. Whereas soccer and Android also have their specific top words related to their domain like \"penalty\", \"injury\", \"huawei\" and etc. "
      ]
    }
  ]
}